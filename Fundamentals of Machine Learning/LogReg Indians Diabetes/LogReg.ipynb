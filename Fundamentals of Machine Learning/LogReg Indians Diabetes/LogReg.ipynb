{
 "cells": [
  {
   "cell_type": "code",
   "execution_count": 61,
   "id": "60c7de7c",
   "metadata": {},
   "outputs": [],
   "source": [
    "import numpy as np\n",
    "import pandas as pd\n",
    "import matplotlib.pyplot as plt\n",
    "\n",
    "from sklearn.linear_model import LogisticRegression\n",
    "from sklearn.preprocessing import StandardScaler\n",
    "from sklearn.model_selection import train_test_split\n",
    "from sklearn.metrics import accuracy_score, confusion_matrix, recall_score, precision_score, f1_score\n",
    "from sklearn.metrics import precision_recall_curve, auc, roc_curve"
   ]
  },
  {
   "cell_type": "markdown",
   "id": "43911657",
   "metadata": {},
   "source": [
    "## Открытие данных"
   ]
  },
  {
   "cell_type": "code",
   "execution_count": 2,
   "id": "1cd4536b",
   "metadata": {},
   "outputs": [],
   "source": [
    "diabetes_df = pd.read_csv('new_diabetes.csv', sep=',')"
   ]
  },
  {
   "cell_type": "code",
   "execution_count": 3,
   "id": "e9968494",
   "metadata": {},
   "outputs": [
    {
     "data": {
      "text/html": [
       "<div>\n",
       "<style scoped>\n",
       "    .dataframe tbody tr th:only-of-type {\n",
       "        vertical-align: middle;\n",
       "    }\n",
       "\n",
       "    .dataframe tbody tr th {\n",
       "        vertical-align: top;\n",
       "    }\n",
       "\n",
       "    .dataframe thead th {\n",
       "        text-align: right;\n",
       "    }\n",
       "</style>\n",
       "<table border=\"1\" class=\"dataframe\">\n",
       "  <thead>\n",
       "    <tr style=\"text-align: right;\">\n",
       "      <th></th>\n",
       "      <th>Pegnancy_count</th>\n",
       "      <th>Glucose</th>\n",
       "      <th>Pressure</th>\n",
       "      <th>Thickness_of_skin_fold</th>\n",
       "      <th>Insulin</th>\n",
       "      <th>BMI</th>\n",
       "      <th>Pedigree_diabetes_function</th>\n",
       "      <th>Age</th>\n",
       "      <th>Diabetes_prediction</th>\n",
       "    </tr>\n",
       "  </thead>\n",
       "  <tbody>\n",
       "    <tr>\n",
       "      <th>0</th>\n",
       "      <td>6</td>\n",
       "      <td>148.0</td>\n",
       "      <td>72.0</td>\n",
       "      <td>35.0</td>\n",
       "      <td>120.0</td>\n",
       "      <td>33.6</td>\n",
       "      <td>0.627</td>\n",
       "      <td>50</td>\n",
       "      <td>1</td>\n",
       "    </tr>\n",
       "    <tr>\n",
       "      <th>1</th>\n",
       "      <td>1</td>\n",
       "      <td>85.0</td>\n",
       "      <td>66.0</td>\n",
       "      <td>29.0</td>\n",
       "      <td>120.0</td>\n",
       "      <td>26.6</td>\n",
       "      <td>0.351</td>\n",
       "      <td>31</td>\n",
       "      <td>0</td>\n",
       "    </tr>\n",
       "    <tr>\n",
       "      <th>2</th>\n",
       "      <td>8</td>\n",
       "      <td>183.0</td>\n",
       "      <td>64.0</td>\n",
       "      <td>29.0</td>\n",
       "      <td>120.0</td>\n",
       "      <td>23.3</td>\n",
       "      <td>0.672</td>\n",
       "      <td>32</td>\n",
       "      <td>1</td>\n",
       "    </tr>\n",
       "    <tr>\n",
       "      <th>3</th>\n",
       "      <td>1</td>\n",
       "      <td>89.0</td>\n",
       "      <td>66.0</td>\n",
       "      <td>23.0</td>\n",
       "      <td>94.0</td>\n",
       "      <td>28.1</td>\n",
       "      <td>0.167</td>\n",
       "      <td>21</td>\n",
       "      <td>0</td>\n",
       "    </tr>\n",
       "    <tr>\n",
       "      <th>4</th>\n",
       "      <td>5</td>\n",
       "      <td>116.0</td>\n",
       "      <td>74.0</td>\n",
       "      <td>29.0</td>\n",
       "      <td>120.0</td>\n",
       "      <td>25.6</td>\n",
       "      <td>0.201</td>\n",
       "      <td>30</td>\n",
       "      <td>0</td>\n",
       "    </tr>\n",
       "  </tbody>\n",
       "</table>\n",
       "</div>"
      ],
      "text/plain": [
       "   Pegnancy_count  Glucose  Pressure  Thickness_of_skin_fold  Insulin   BMI  \\\n",
       "0               6    148.0      72.0                    35.0    120.0  33.6   \n",
       "1               1     85.0      66.0                    29.0    120.0  26.6   \n",
       "2               8    183.0      64.0                    29.0    120.0  23.3   \n",
       "3               1     89.0      66.0                    23.0     94.0  28.1   \n",
       "4               5    116.0      74.0                    29.0    120.0  25.6   \n",
       "\n",
       "   Pedigree_diabetes_function  Age  Diabetes_prediction  \n",
       "0                       0.627   50                    1  \n",
       "1                       0.351   31                    0  \n",
       "2                       0.672   32                    1  \n",
       "3                       0.167   21                    0  \n",
       "4                       0.201   30                    0  "
      ]
     },
     "execution_count": 3,
     "metadata": {},
     "output_type": "execute_result"
    }
   ],
   "source": [
    "diabetes_df.head()"
   ]
  },
  {
   "cell_type": "code",
   "execution_count": 5,
   "id": "654c585d",
   "metadata": {},
   "outputs": [
    {
     "name": "stdout",
     "output_type": "stream",
     "text": [
      "<class 'pandas.core.frame.DataFrame'>\n",
      "RangeIndex: 656 entries, 0 to 655\n",
      "Data columns (total 9 columns):\n",
      " #   Column                      Non-Null Count  Dtype  \n",
      "---  ------                      --------------  -----  \n",
      " 0   Pegnancy_count              656 non-null    int64  \n",
      " 1   Glucose                     656 non-null    float64\n",
      " 2   Pressure                    656 non-null    float64\n",
      " 3   Thickness_of_skin_fold      656 non-null    float64\n",
      " 4   Insulin                     656 non-null    float64\n",
      " 5   BMI                         656 non-null    float64\n",
      " 6   Pedigree_diabetes_function  656 non-null    float64\n",
      " 7   Age                         656 non-null    int64  \n",
      " 8   Diabetes_prediction         656 non-null    int64  \n",
      "dtypes: float64(6), int64(3)\n",
      "memory usage: 46.2 KB\n"
     ]
    }
   ],
   "source": [
    "diabetes_df.info()"
   ]
  },
  {
   "cell_type": "code",
   "execution_count": 4,
   "id": "f10d85ca",
   "metadata": {},
   "outputs": [
    {
     "data": {
      "text/plain": [
       "0    443\n",
       "1    213\n",
       "Name: Diabetes_prediction, dtype: int64"
      ]
     },
     "execution_count": 4,
     "metadata": {},
     "output_type": "execute_result"
    }
   ],
   "source": [
    "diabetes_df.Diabetes_prediction.value_counts()"
   ]
  },
  {
   "cell_type": "markdown",
   "id": "86ebd8b1",
   "metadata": {},
   "source": [
    "## Деление на тренировку и тест"
   ]
  },
  {
   "cell_type": "code",
   "execution_count": 8,
   "id": "9114ae88",
   "metadata": {},
   "outputs": [],
   "source": [
    "X = diabetes_df.drop('Diabetes_prediction', axis=1).values\n",
    "y = diabetes_df.Diabetes_prediction.values"
   ]
  },
  {
   "cell_type": "code",
   "execution_count": 9,
   "id": "da51c5f8",
   "metadata": {},
   "outputs": [
    {
     "data": {
      "text/plain": [
       "((656, 8), (656,))"
      ]
     },
     "execution_count": 9,
     "metadata": {},
     "output_type": "execute_result"
    }
   ],
   "source": [
    "X.shape, y.shape"
   ]
  },
  {
   "cell_type": "code",
   "execution_count": 16,
   "id": "cbf628ce",
   "metadata": {},
   "outputs": [],
   "source": [
    "# Делаем разделение с учетом дисбаланса классов \n",
    "X_train, X_test, y_train, y_test = train_test_split(X, y, test_size=0.2, stratify=y, random_state=42)"
   ]
  },
  {
   "cell_type": "markdown",
   "id": "653af9d4",
   "metadata": {},
   "source": [
    "## Моделлинг"
   ]
  },
  {
   "cell_type": "code",
   "execution_count": 22,
   "id": "6318305f",
   "metadata": {},
   "outputs": [],
   "source": [
    "clf = LogisticRegression(random_state=42)\n",
    "scaler = StandardScaler().fit(X_train)"
   ]
  },
  {
   "cell_type": "code",
   "execution_count": 23,
   "id": "9b8093c8",
   "metadata": {},
   "outputs": [
    {
     "data": {
      "text/plain": [
       "LogisticRegression(random_state=42)"
      ]
     },
     "execution_count": 23,
     "metadata": {},
     "output_type": "execute_result"
    }
   ],
   "source": [
    "X_train = scaler.transform(X_train)\n",
    "clf.fit(X_train, y_train)"
   ]
  },
  {
   "cell_type": "code",
   "execution_count": 68,
   "id": "8d732972",
   "metadata": {},
   "outputs": [
    {
     "data": {
      "text/plain": [
       "(array([[ 0.35707483,  1.18929252, -0.05841898,  0.06781018,  0.01313319,\n",
       "          0.6099991 ,  0.2410352 ,  0.18800994]]),\n",
       " array([-1.03619323]))"
      ]
     },
     "execution_count": 68,
     "metadata": {},
     "output_type": "execute_result"
    }
   ],
   "source": [
    "clf.coef_, clf.intercept_"
   ]
  },
  {
   "cell_type": "markdown",
   "id": "1183ba4f",
   "metadata": {},
   "source": [
    "## Оценка модели"
   ]
  },
  {
   "cell_type": "code",
   "execution_count": 26,
   "id": "2fd12f6c",
   "metadata": {},
   "outputs": [],
   "source": [
    "X_test = scaler.transform(X_test)"
   ]
  },
  {
   "cell_type": "code",
   "execution_count": 29,
   "id": "6781e174",
   "metadata": {},
   "outputs": [],
   "source": [
    "predicts = clf.predict(X_test)"
   ]
  },
  {
   "cell_type": "code",
   "execution_count": 33,
   "id": "5d0638c8",
   "metadata": {},
   "outputs": [
    {
     "data": {
      "text/plain": [
       "0.803030303030303"
      ]
     },
     "execution_count": 33,
     "metadata": {},
     "output_type": "execute_result"
    }
   ],
   "source": [
    "accuracy_score(y_test, predicts)"
   ]
  },
  {
   "cell_type": "code",
   "execution_count": 30,
   "id": "4ea9ddfd",
   "metadata": {},
   "outputs": [
    {
     "data": {
      "text/plain": [
       "array([[80,  9],\n",
       "       [17, 26]], dtype=int64)"
      ]
     },
     "execution_count": 30,
     "metadata": {},
     "output_type": "execute_result"
    }
   ],
   "source": [
    "confusion_matrix(y_test, predicts)"
   ]
  },
  {
   "cell_type": "code",
   "execution_count": 31,
   "id": "0e35604b",
   "metadata": {},
   "outputs": [
    {
     "data": {
      "text/plain": [
       "0.7428571428571429"
      ]
     },
     "execution_count": 31,
     "metadata": {},
     "output_type": "execute_result"
    }
   ],
   "source": [
    "precision_score(y_test, predicts)"
   ]
  },
  {
   "cell_type": "code",
   "execution_count": 32,
   "id": "e8f1255c",
   "metadata": {},
   "outputs": [
    {
     "data": {
      "text/plain": [
       "0.6046511627906976"
      ]
     },
     "execution_count": 32,
     "metadata": {},
     "output_type": "execute_result"
    }
   ],
   "source": [
    "recall_score(y_test, predicts)"
   ]
  },
  {
   "cell_type": "markdown",
   "id": "09f4b814",
   "metadata": {},
   "source": [
    "Значение точности 0.74 означает, что из всех людей, кого модель обрекла на диабет, лишь 74 процента из них реально получили диабет.\n",
    "\n",
    "Значение полноты 0.60 показывает, что из всех, у кого появился диабет, модель обнаружила только 60 процентов\n",
    "\n",
    "В этой задаче мы хотим находить как можно больше людей, которые заболеют, то есть нам нужно максимизировать полноту, но так, чтобы точность не упала ниже хотя бы 60 процентов"
   ]
  },
  {
   "cell_type": "code",
   "execution_count": 39,
   "id": "de754b1e",
   "metadata": {},
   "outputs": [],
   "source": [
    "# Получение вероятностей принадлежности классу 1\n",
    "predicts_proba = clf.predict_proba(X_test)[:, 1]"
   ]
  },
  {
   "cell_type": "code",
   "execution_count": 40,
   "id": "13996928",
   "metadata": {},
   "outputs": [],
   "source": [
    "def threshold(probs, thresh=0.5):\n",
    "    new_probs = probs.copy()\n",
    "    new_probs[new_probs > thresh] = 1\n",
    "    new_probs[new_probs <= thresh] = 0\n",
    "    return new_probs"
   ]
  },
  {
   "cell_type": "code",
   "execution_count": 44,
   "id": "c61f6bae",
   "metadata": {},
   "outputs": [
    {
     "name": "stdout",
     "output_type": "stream",
     "text": [
      "Precision 0.603448275862069\n",
      "Recall 0.813953488372093\n"
     ]
    }
   ],
   "source": [
    "predicts = threshold(predicts_proba, 0.31)\n",
    "print(\"Precision \" + str(precision_score(y_test, predicts)))\n",
    "print(\"Recall \" + str(recall_score(y_test, predicts)))"
   ]
  },
  {
   "cell_type": "markdown",
   "id": "4910b76f",
   "metadata": {},
   "source": [
    "Модель с таким порогом нас удовлетворяет, но порог пришлось искать вручную. Изобразим график PR-кривой и посмотрим, на что мы еще могли расчитывать"
   ]
  },
  {
   "cell_type": "code",
   "execution_count": 48,
   "id": "65bebaf9",
   "metadata": {},
   "outputs": [
    {
     "data": {
      "image/png": "[encoded data removed]",
      "text/plain": [
       "<Figure size 432x288 with 1 Axes>"
      ]
     },
     "metadata": {
      "needs_background": "light"
     },
     "output_type": "display_data"
    }
   ],
   "source": [
    "p_array, r_array, thresholds = precision_recall_curve(y_test, predicts_proba)\n",
    "plt.plot(r_array, p_array)\n",
    "plt.xlabel('Recall')\n",
    "plt.ylabel('Precision')\n",
    "plt.title('PR-curve')\n",
    "plt.show()"
   ]
  },
  {
   "cell_type": "code",
   "execution_count": 60,
   "id": "816d7245",
   "metadata": {},
   "outputs": [
    {
     "name": "stdout",
     "output_type": "stream",
     "text": [
      "Площадь под графиком: 0.788420471630007\n"
     ]
    }
   ],
   "source": [
    "print(\"Площадь под графиком: \" + str(auc(r_array, p_array)))"
   ]
  },
  {
   "cell_type": "markdown",
   "id": "aad8ef61",
   "metadata": {},
   "source": [
    "Найдем оптимальный порог, учитывая что максимизировать мы должны полноту, а точность брать не менее 0.6"
   ]
  },
  {
   "cell_type": "code",
   "execution_count": 50,
   "id": "4a2b65d9",
   "metadata": {},
   "outputs": [
    {
     "data": {
      "text/plain": [
       "(array([28, 29, 30, 31, 32, 33, 34, 35, 36, 37, 38, 39, 40, 41, 42, 43, 44,\n",
       "        45, 46, 47, 48, 49, 50, 51, 52, 53, 54, 55, 56, 57, 58, 59, 60, 61,\n",
       "        62, 63, 64, 65, 66, 67, 68, 69, 70, 71, 72, 73, 74, 75, 76, 77, 78,\n",
       "        79, 80, 81, 82, 83, 84, 85, 86], dtype=int64),)"
      ]
     },
     "execution_count": 50,
     "metadata": {},
     "output_type": "execute_result"
    }
   ],
   "source": [
    "p_idx = np.where(p_array >= 0.6)\n",
    "p_idx"
   ]
  },
  {
   "cell_type": "code",
   "execution_count": 51,
   "id": "a4f49560",
   "metadata": {},
   "outputs": [
    {
     "data": {
      "text/plain": [
       "array([0.81395349, 0.81395349, 0.79069767, 0.79069767, 0.76744186,\n",
       "       0.76744186, 0.74418605, 0.74418605, 0.74418605, 0.72093023,\n",
       "       0.72093023, 0.72093023, 0.69767442, 0.6744186 , 0.65116279,\n",
       "       0.65116279, 0.65116279, 0.65116279, 0.62790698, 0.62790698,\n",
       "       0.62790698, 0.60465116, 0.60465116, 0.60465116, 0.60465116,\n",
       "       0.58139535, 0.55813953, 0.53488372, 0.51162791, 0.48837209,\n",
       "       0.48837209, 0.46511628, 0.46511628, 0.46511628, 0.44186047,\n",
       "       0.41860465, 0.41860465, 0.41860465, 0.39534884, 0.39534884,\n",
       "       0.39534884, 0.37209302, 0.37209302, 0.34883721, 0.3255814 ,\n",
       "       0.30232558, 0.27906977, 0.25581395, 0.23255814, 0.20930233,\n",
       "       0.18604651, 0.1627907 , 0.13953488, 0.11627907, 0.09302326,\n",
       "       0.06976744, 0.04651163, 0.02325581, 0.        ])"
      ]
     },
     "execution_count": 51,
     "metadata": {},
     "output_type": "execute_result"
    }
   ],
   "source": [
    "r_array[p_idx]"
   ]
  },
  {
   "cell_type": "code",
   "execution_count": 57,
   "id": "6c87ac02",
   "metadata": {},
   "outputs": [
    {
     "name": "stdout",
     "output_type": "stream",
     "text": [
      "t: 0.3097636845497932\n",
      "Precision: 0.603448275862069\n",
      "Recall: 0.813953488372093\n"
     ]
    }
   ],
   "source": [
    "t = thresholds[27]\n",
    "predicts = threshold(predicts_proba, t)\n",
    "print(\"t: \" + str(t))\n",
    "print(\"Precision: \" + str(precision_score(y_test, predicts)))\n",
    "print(\"Recall: \" + str(recall_score(y_test, predicts)))"
   ]
  },
  {
   "cell_type": "markdown",
   "id": "9a502970",
   "metadata": {},
   "source": [
    "Как видим, получился такой же результат, но без ручного перебора"
   ]
  },
  {
   "cell_type": "code",
   "execution_count": 66,
   "id": "1a42baa7",
   "metadata": {},
   "outputs": [
    {
     "data": {
      "image/png": "[encoded data removed]",
      "text/plain": [
       "<Figure size 432x288 with 1 Axes>"
      ]
     },
     "metadata": {
      "needs_background": "light"
     },
     "output_type": "display_data"
    }
   ],
   "source": [
    "fpr, tpr, thresholds = roc_curve(y_test, predicts_proba)\n",
    "plt.plot(fpr, tpr)\n",
    "plt.xlabel('False Positive Rate')\n",
    "plt.ylabel('True Positive Rate')\n",
    "plt.title('ROC-curve')\n",
    "plt.show()"
   ]
  },
  {
   "cell_type": "code",
   "execution_count": 65,
   "id": "4b895ef4",
   "metadata": {},
   "outputs": [
    {
     "name": "stdout",
     "output_type": "stream",
     "text": [
      "Площадь под графиком: 0.8706558662137444\n"
     ]
    }
   ],
   "source": [
    "print(\"Площадь под графиком: \" + str(auc(fpr, tpr)))"
   ]
  },
  {
   "cell_type": "markdown",
   "id": "3b84af13",
   "metadata": {},
   "source": [
    "Не смотря на большое значение площади под ROC-кривой, следует помнить, что эта метрика может ввести в заблуждение из-за несбалансированности класса"
   ]
  },
  {
   "cell_type": "code",
   "execution_count": null,
   "id": "54a3ff00",
   "metadata": {},
   "outputs": [],
   "source": []
  }
 ],
 "metadata": {
  "kernelspec": {
   "display_name": "Python 3",
   "language": "python",
   "name": "python3"
  },
  "language_info": {
   "codemirror_mode": {
    "name": "ipython",
    "version": 3
   },
   "file_extension": ".py",
   "mimetype": "text/x-python",
   "name": "python",
   "nbconvert_exporter": "python",
   "pygments_lexer": "ipython3",
   "version": "3.9.5"
  }
 },
 "nbformat": 4,
 "nbformat_minor": 5
}
