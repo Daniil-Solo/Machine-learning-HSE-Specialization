{
 "cells": [
  {
   "cell_type": "markdown",
   "metadata": {},
   "source": [
    "\n",
    "\n",
    "#  Сбор данных: грязная работа вашими руками \n",
    "\n",
    "Пришло время самостоятельно написать парсер! Мы будем собирать данные [о ценах на книги.](http://books.toscrape.com)"
   ]
  },
  {
   "cell_type": "code",
   "execution_count": 60,
   "metadata": {
    "deletable": false,
    "nbgrader": {
     "cell_type": "code",
     "checksum": "763c9b123c61d02adcf8e688c14b824e",
     "grade": false,
     "grade_id": "cell-a1d057ec06e84bdd",
     "locked": false,
     "schema_version": 3,
     "solution": true,
     "task": false
    }
   },
   "outputs": [],
   "source": [
    "import requests\n",
    "import bs4\n",
    "import pandas as pd"
   ]
  },
  {
   "cell_type": "markdown",
   "metadata": {},
   "source": [
    "Прогуляйтесь на сайт http://books.toscrape.com/ и изучите его структуру.  \n",
    "\n",
    "\n",
    "# 1. Сбор ссылок на книги\n",
    "\n",
    "Напишите функцию `get_soup`, которая по ссылке возвращает html-разметку страницы в формате `bs4` "
   ]
  },
  {
   "cell_type": "code",
   "execution_count": 2,
   "metadata": {
    "deletable": false,
    "nbgrader": {
     "cell_type": "code",
     "checksum": "9c97f15308c26fba4787e1ed46be1762",
     "grade": false,
     "grade_id": "cell-bb3dd3de95e8b98e",
     "locked": false,
     "schema_version": 3,
     "solution": true,
     "task": false
    }
   },
   "outputs": [],
   "source": [
    "def get_page_soup(url_link):\n",
    "    response = requests.get(url_link)\n",
    "    html = response.text\n",
    "    return bs4.BeautifulSoup(html, 'lxml')"
   ]
  },
  {
   "cell_type": "code",
   "execution_count": 3,
   "metadata": {},
   "outputs": [
    {
     "data": {
      "text/plain": [
       "'Books to Scrape'"
      ]
     },
     "execution_count": 3,
     "metadata": {},
     "output_type": "execute_result"
    }
   ],
   "source": [
    "main_url = 'http://books.toscrape.com/catalogue/'\n",
    "page_number = 5\n",
    "\n",
    "soup = get_page_soup(main_url + f'page-{page_number}.html')\n",
    "soup.find_all('a')[0].text"
   ]
  },
  {
   "cell_type": "markdown",
   "metadata": {},
   "source": [
    "Напишите функцию `get_books_links`, которая находит в html-разметке страницы ссылки на странички с отдельными книгами. "
   ]
  },
  {
   "cell_type": "code",
   "execution_count": 17,
   "metadata": {
    "deletable": false,
    "nbgrader": {
     "cell_type": "code",
     "checksum": "f2bcfb757d246472754f42327e7f193d",
     "grade": false,
     "grade_id": "cell-565bf344d89fef43",
     "locked": false,
     "schema_version": 3,
     "solution": true,
     "task": false
    }
   },
   "outputs": [],
   "source": [
    "def get_book_links(page_soup) -> list:\n",
    "    global main_url\n",
    "    links = []\n",
    "    books_block = page_soup.find('ol', {'class': 'row'}).find_all('li')\n",
    "    for block in books_block:\n",
    "        link = block.article.div.a.get('href')\n",
    "        links.append(main_url + link)\n",
    "    return links"
   ]
  },
  {
   "cell_type": "markdown",
   "metadata": {},
   "source": [
    "С помощью цикла соберите в лист `book_links` первые 200 книг."
   ]
  },
  {
   "cell_type": "code",
   "execution_count": 18,
   "metadata": {
    "deletable": false,
    "nbgrader": {
     "cell_type": "code",
     "checksum": "25cc39adb04c7c00c5e117837d9c606d",
     "grade": false,
     "grade_id": "cell-883211fab847e672",
     "locked": false,
     "schema_version": 3,
     "solution": true,
     "task": false
    }
   },
   "outputs": [],
   "source": [
    "book_links = []\n",
    "\n",
    "for page_number in range(1, 11):\n",
    "    soup = get_page_soup(main_url + f'page-{page_number}.html')\n",
    "    book_links += get_book_links(soup)"
   ]
  },
  {
   "cell_type": "code",
   "execution_count": 21,
   "metadata": {
    "deletable": false,
    "editable": false,
    "nbgrader": {
     "cell_type": "code",
     "checksum": "5612dea4ceb41e455f47a77f81d6e97c",
     "grade": true,
     "grade_id": "cell-fb6eac2f95e1147e",
     "locked": true,
     "points": 1,
     "schema_version": 3,
     "solution": false,
     "task": false
    }
   },
   "outputs": [],
   "source": [
    "# проверка, что задание решено корректно\n",
    "assert len(book_links) == 200"
   ]
  },
  {
   "cell_type": "markdown",
   "metadata": {},
   "source": [
    "# 2. Сбор информации о книгах \n",
    "\n",
    "Напишите несколько небольших функций, которые собирают различные данные об одной книге, необходимые для ответов на вопросы ниже. Информацию о книге собирайте в виде словаря вида \n",
    "\n",
    "```\n",
    "{ 'name': 'Преступление и наказание', 'rating': 1, 'description': 'ужасно депрессивная книга', ... }\n",
    "\n",
    "```"
   ]
  },
  {
   "cell_type": "code",
   "execution_count": 138,
   "metadata": {
    "deletable": false,
    "nbgrader": {
     "cell_type": "code",
     "checksum": "defea54e7bc7d4545e27bbd019f41ae2",
     "grade": false,
     "grade_id": "cell-a3b3b4c91addb471",
     "locked": false,
     "schema_version": 3,
     "solution": true,
     "task": false
    }
   },
   "outputs": [],
   "source": [
    "def get_book_info(book_link):\n",
    "    html = requests.get(book_link).text\n",
    "    soup = bs4.BeautifulSoup(html, 'lxml')\n",
    "    \n",
    "    name = soup.find('div', {'class': 'col-sm-6 product_main'}).h1.text\n",
    "    \n",
    "    for index, string_rate in enumerate(['Zero', 'One', 'Two', 'Three', 'Four', 'Five']):\n",
    "        if soup.find('p', {'class': \"star-rating \" + string_rate}):\n",
    "            rate = index\n",
    "            break\n",
    "    \n",
    "    try:\n",
    "        description = soup.select(\"#content_inner > article > p\")[0].text\n",
    "    except IndexError or AttributeError:\n",
    "        description = \"\"\n",
    "    \n",
    "    price = soup.find('table', {'class': 'table table-striped'}).find_all('tr')[2].td.text[2:]\n",
    "    \n",
    "    tax = soup.find('table', {'class': 'table table-striped'}).find_all('tr')[4].td.text[2:]\n",
    "    \n",
    "    return dict(name=name, rating=rate, description=description, price_without_tax=price, tax=tax)"
   ]
  },
  {
   "cell_type": "code",
   "execution_count": 143,
   "metadata": {
    "deletable": false,
    "nbgrader": {
     "cell_type": "code",
     "checksum": "418e8b0cadc167a34bd0937d72934bb4",
     "grade": false,
     "grade_id": "cell-240b7f956c433b45",
     "locked": false,
     "schema_version": 3,
     "solution": true,
     "task": false
    }
   },
   "outputs": [],
   "source": [
    "book_info = []\n",
    "\n",
    "for link in book_links:\n",
    "    info = get_book_info(link)\n",
    "    book_info.append(info)"
   ]
  },
  {
   "cell_type": "markdown",
   "metadata": {},
   "source": [
    "Превратим вектор из информации в полноценную таблицу с данными. "
   ]
  },
  {
   "cell_type": "code",
   "execution_count": 144,
   "metadata": {},
   "outputs": [
    {
     "name": "stdout",
     "output_type": "stream",
     "text": [
      "(200, 5)\n"
     ]
    },
    {
     "data": {
      "text/html": [
       "<div>\n",
       "<style scoped>\n",
       "    .dataframe tbody tr th:only-of-type {\n",
       "        vertical-align: middle;\n",
       "    }\n",
       "\n",
       "    .dataframe tbody tr th {\n",
       "        vertical-align: top;\n",
       "    }\n",
       "\n",
       "    .dataframe thead th {\n",
       "        text-align: right;\n",
       "    }\n",
       "</style>\n",
       "<table border=\"1\" class=\"dataframe\">\n",
       "  <thead>\n",
       "    <tr style=\"text-align: right;\">\n",
       "      <th></th>\n",
       "      <th>name</th>\n",
       "      <th>rating</th>\n",
       "      <th>description</th>\n",
       "      <th>price_without_tax</th>\n",
       "      <th>tax</th>\n",
       "    </tr>\n",
       "  </thead>\n",
       "  <tbody>\n",
       "    <tr>\n",
       "      <th>0</th>\n",
       "      <td>A Light in the Attic</td>\n",
       "      <td>3</td>\n",
       "      <td>It's hard to imagine a world without A Light i...</td>\n",
       "      <td>51.77</td>\n",
       "      <td>0.00</td>\n",
       "    </tr>\n",
       "    <tr>\n",
       "      <th>1</th>\n",
       "      <td>Tipping the Velvet</td>\n",
       "      <td>1</td>\n",
       "      <td>\"Erotic and absorbing...Written with starling ...</td>\n",
       "      <td>53.74</td>\n",
       "      <td>0.00</td>\n",
       "    </tr>\n",
       "    <tr>\n",
       "      <th>2</th>\n",
       "      <td>Soumission</td>\n",
       "      <td>1</td>\n",
       "      <td>Dans une France assez proche de la nÃ´tre, un ...</td>\n",
       "      <td>50.10</td>\n",
       "      <td>0.00</td>\n",
       "    </tr>\n",
       "    <tr>\n",
       "      <th>3</th>\n",
       "      <td>Sharp Objects</td>\n",
       "      <td>1</td>\n",
       "      <td>WICKED above her hipbone, GIRL across her hear...</td>\n",
       "      <td>47.82</td>\n",
       "      <td>0.00</td>\n",
       "    </tr>\n",
       "    <tr>\n",
       "      <th>4</th>\n",
       "      <td>Sapiens: A Brief History of Humankind</td>\n",
       "      <td>1</td>\n",
       "      <td>From a renowned historian comes a groundbreaki...</td>\n",
       "      <td>54.23</td>\n",
       "      <td>0.00</td>\n",
       "    </tr>\n",
       "  </tbody>\n",
       "</table>\n",
       "</div>"
      ],
      "text/plain": [
       "                                    name  rating  \\\n",
       "0                   A Light in the Attic       3   \n",
       "1                     Tipping the Velvet       1   \n",
       "2                             Soumission       1   \n",
       "3                          Sharp Objects       1   \n",
       "4  Sapiens: A Brief History of Humankind       1   \n",
       "\n",
       "                                         description price_without_tax   tax  \n",
       "0  It's hard to imagine a world without A Light i...             51.77  0.00  \n",
       "1  \"Erotic and absorbing...Written with starling ...             53.74  0.00  \n",
       "2  Dans une France assez proche de la nÃ´tre, un ...             50.10  0.00  \n",
       "3  WICKED above her hipbone, GIRL across her hear...             47.82  0.00  \n",
       "4  From a renowned historian comes a groundbreaki...             54.23  0.00  "
      ]
     },
     "execution_count": 144,
     "metadata": {},
     "output_type": "execute_result"
    }
   ],
   "source": [
    "book_info_df = pd.DataFrame(book_info)\n",
    "print(book_info_df.shape)\n",
    "book_info_df.head(5) "
   ]
  },
  {
   "cell_type": "code",
   "execution_count": 147,
   "metadata": {},
   "outputs": [],
   "source": [
    "book_info_df.price_without_tax = book_info_df.price_without_tax.astype(float)\n",
    "book_info_df.tax = book_info_df.tax.astype(float)"
   ]
  },
  {
   "cell_type": "code",
   "execution_count": 148,
   "metadata": {},
   "outputs": [
    {
     "name": "stdout",
     "output_type": "stream",
     "text": [
      "<class 'pandas.core.frame.DataFrame'>\n",
      "RangeIndex: 200 entries, 0 to 199\n",
      "Data columns (total 5 columns):\n",
      " #   Column             Non-Null Count  Dtype  \n",
      "---  ------             --------------  -----  \n",
      " 0   name               200 non-null    object \n",
      " 1   rating             200 non-null    int64  \n",
      " 2   description        200 non-null    object \n",
      " 3   price_without_tax  200 non-null    float64\n",
      " 4   tax                200 non-null    float64\n",
      "dtypes: float64(2), int64(1), object(2)\n",
      "memory usage: 7.9+ KB\n"
     ]
    }
   ],
   "source": [
    "book_info_df.info()"
   ]
  },
  {
   "cell_type": "markdown",
   "metadata": {},
   "source": [
    "- У скольких книг отсутствует описание? Положите число, получившееся в результате ваших манипуляций с таблицей, в переменную `ans1`. "
   ]
  },
  {
   "cell_type": "code",
   "execution_count": 153,
   "metadata": {
    "deletable": false,
    "nbgrader": {
     "cell_type": "code",
     "checksum": "0a54c60fbbab43a250f22bba8ae6f62d",
     "grade": false,
     "grade_id": "cell-818d91b73f034e1a",
     "locked": false,
     "schema_version": 3,
     "solution": true,
     "task": false
    }
   },
   "outputs": [],
   "source": [
    "ans1 = 200 "
   ]
  },
  {
   "cell_type": "code",
   "execution_count": 154,
   "metadata": {
    "deletable": false,
    "editable": false,
    "nbgrader": {
     "cell_type": "code",
     "checksum": "9f491fbdefb015ad971b51368121c8f2",
     "grade": true,
     "grade_id": "cell-4b9e7e39b8921ba5",
     "locked": true,
     "points": 1,
     "schema_version": 3,
     "solution": false,
     "task": false
    }
   },
   "outputs": [],
   "source": [
    "# проверка, что задание решено корректно"
   ]
  },
  {
   "cell_type": "markdown",
   "metadata": {},
   "source": [
    "- Сколько раз в данных встречается налог, больший нуля?  Положите число, получившееся в результате ваших манипуляций с таблицей, в переменную `ans2`. "
   ]
  },
  {
   "cell_type": "code",
   "execution_count": 161,
   "metadata": {
    "deletable": false,
    "nbgrader": {
     "cell_type": "code",
     "checksum": "881cb4d0c1333101e6756e8d38221100",
     "grade": false,
     "grade_id": "cell-be342205fa946a79",
     "locked": false,
     "schema_version": 3,
     "solution": true,
     "task": false
    }
   },
   "outputs": [
    {
     "data": {
      "text/plain": [
       "0"
      ]
     },
     "execution_count": 161,
     "metadata": {},
     "output_type": "execute_result"
    }
   ],
   "source": [
    "ans2 = len(book_info_df[book_info_df.tax > 0]) \n",
    "ans2"
   ]
  },
  {
   "cell_type": "code",
   "execution_count": 150,
   "metadata": {
    "deletable": false,
    "editable": false,
    "nbgrader": {
     "cell_type": "code",
     "checksum": "cd049541de0eb64f029f0ead81715e8e",
     "grade": true,
     "grade_id": "cell-c3b1e5331d25a061",
     "locked": true,
     "points": 0,
     "schema_version": 3,
     "solution": false,
     "task": false
    }
   },
   "outputs": [],
   "source": [
    "# проверка, что задание решено корректно"
   ]
  },
  {
   "cell_type": "markdown",
   "metadata": {},
   "source": [
    "- Сколько раз рейтинг книги составлял пять звезд? Положите число, получившееся в результате ваших манипуляций с таблицей, в переменную `ans3`. "
   ]
  },
  {
   "cell_type": "code",
   "execution_count": 160,
   "metadata": {
    "deletable": false,
    "nbgrader": {
     "cell_type": "code",
     "checksum": "9bed9ee4d147130e84c82fddec2f3764",
     "grade": false,
     "grade_id": "cell-a904ff9c737f3bae",
     "locked": false,
     "schema_version": 3,
     "solution": true,
     "task": false
    }
   },
   "outputs": [
    {
     "data": {
      "text/plain": [
       "0"
      ]
     },
     "execution_count": 160,
     "metadata": {},
     "output_type": "execute_result"
    }
   ],
   "source": [
    "ans3 = len(book_info_df[book_info_df.rating == 5]) \n",
    "ans3"
   ]
  },
  {
   "cell_type": "code",
   "execution_count": 157,
   "metadata": {
    "deletable": false,
    "editable": false,
    "nbgrader": {
     "cell_type": "code",
     "checksum": "78c9f492a04cbbd857b2392ae47d0183",
     "grade": true,
     "grade_id": "cell-ac096895d662ffc8",
     "locked": true,
     "points": 1,
     "schema_version": 3,
     "solution": false,
     "task": false
    }
   },
   "outputs": [],
   "source": [
    "# проверка, что задание решено корректно\n"
   ]
  },
  {
   "cell_type": "markdown",
   "metadata": {},
   "source": [
    "- Какова средняя цена книг (без учета налога)? Положите число, получившееся в результате ваших манипуляций с таблицей, в переменную `ans4`. "
   ]
  },
  {
   "cell_type": "code",
   "execution_count": 159,
   "metadata": {
    "deletable": false,
    "nbgrader": {
     "cell_type": "code",
     "checksum": "2ba621a61f0c0e5e50a4c01253676973",
     "grade": false,
     "grade_id": "cell-60c854eb83c66df8",
     "locked": false,
     "schema_version": 3,
     "solution": true,
     "task": false
    }
   },
   "outputs": [
    {
     "data": {
      "text/plain": [
       "34.79625"
      ]
     },
     "execution_count": 159,
     "metadata": {},
     "output_type": "execute_result"
    }
   ],
   "source": [
    "ans4 = book_info_df.price_without_tax.mean()\n",
    "ans4"
   ]
  },
  {
   "cell_type": "code",
   "execution_count": null,
   "metadata": {
    "deletable": false,
    "editable": false,
    "nbgrader": {
     "cell_type": "code",
     "checksum": "16f95015c013e7a27c8890721fd6d7c5",
     "grade": true,
     "grade_id": "cell-36295b0dc83ec0ad",
     "locked": true,
     "points": 1,
     "schema_version": 3,
     "solution": false,
     "task": false
    }
   },
   "outputs": [],
   "source": [
    "# проверка, что задание решено корректно\n"
   ]
  },
  {
   "cell_type": "markdown",
   "metadata": {},
   "source": [
    " "
   ]
  }
 ],
 "metadata": {
  "kernelspec": {
   "display_name": "Python 3",
   "language": "python",
   "name": "python3"
  },
  "language_info": {
   "codemirror_mode": {
    "name": "ipython",
    "version": 3
   },
   "file_extension": ".py",
   "mimetype": "text/x-python",
   "name": "python",
   "nbconvert_exporter": "python",
   "pygments_lexer": "ipython3",
   "version": "3.9.5"
  },
  "varInspector": {
   "cols": {
    "lenName": 16,
    "lenType": 16,
    "lenVar": 40
   },
   "kernels_config": {
    "python": {
     "delete_cmd_postfix": "",
     "delete_cmd_prefix": "del ",
     "library": "var_list.py",
     "varRefreshCmd": "print(var_dic_list())"
    },
    "r": {
     "delete_cmd_postfix": ") ",
     "delete_cmd_prefix": "rm(",
     "library": "var_list.r",
     "varRefreshCmd": "cat(var_dic_list()) "
    }
   },
   "types_to_exclude": [
    "module",
    "function",
    "builtin_function_or_method",
    "instance",
    "_Feature"
   ],
   "window_display": false
  }
 },
 "nbformat": 4,
 "nbformat_minor": 2
}
