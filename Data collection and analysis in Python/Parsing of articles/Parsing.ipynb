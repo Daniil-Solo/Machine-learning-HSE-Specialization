{
 "cells": [
  {
   "cell_type": "code",
   "execution_count": 1,
   "id": "c87eebae",
   "metadata": {},
   "outputs": [],
   "source": [
    "from fake_useragent import UserAgent\n",
    "import requests\n",
    "import pandas as pd\n",
    "import datetime\n",
    "import bs4\n",
    "import time\n",
    "import tqdm"
   ]
  },
  {
   "cell_type": "markdown",
   "id": "4a41605f",
   "metadata": {},
   "source": [
    "## Обращение к сайту"
   ]
  },
  {
   "cell_type": "code",
   "execution_count": 26,
   "id": "6596d5a1",
   "metadata": {},
   "outputs": [],
   "source": [
    "link = 'https://zadolba.li/20210928'\n",
    "fake_user_agent = None"
   ]
  },
  {
   "cell_type": "code",
   "execution_count": 27,
   "id": "af461830",
   "metadata": {},
   "outputs": [],
   "source": [
    "response = requests.get(link, headers={'User-Agent': UserAgent().chrome})\n",
    "html = response.content"
   ]
  },
  {
   "cell_type": "code",
   "execution_count": 29,
   "id": "320f1cc2",
   "metadata": {},
   "outputs": [],
   "source": [
    "# Создадим соответствующую функцию\n",
    "def get_html(link, fake_user_agent=None):\n",
    "    \n",
    "    response = requests.get(link, headers={'User-Agent': fake_user_agent})\n",
    "    if response.ok:\n",
    "        return response.content\n",
    "    else:\n",
    "        return None"
   ]
  },
  {
   "cell_type": "code",
   "execution_count": 33,
   "id": "f60ede33",
   "metadata": {},
   "outputs": [],
   "source": [
    "html = get_html(link, fake_user_agent)"
   ]
  },
  {
   "cell_type": "markdown",
   "id": "877189ad",
   "metadata": {},
   "source": [
    "## Сбор блоков историй"
   ]
  },
  {
   "cell_type": "code",
   "execution_count": 34,
   "id": "0e66a3f5",
   "metadata": {},
   "outputs": [],
   "source": [
    "soup = bs4.BeautifulSoup(html, 'html.parser')"
   ]
  },
  {
   "cell_type": "code",
   "execution_count": 39,
   "id": "3fa8e736",
   "metadata": {},
   "outputs": [],
   "source": [
    "content_block = soup.find('div', {'class': 'content'})"
   ]
  },
  {
   "cell_type": "code",
   "execution_count": 41,
   "id": "9e2fa076",
   "metadata": {},
   "outputs": [],
   "source": [
    "story_blocks = content_block.find_all('div', {'class': 'story'})"
   ]
  },
  {
   "cell_type": "code",
   "execution_count": 42,
   "id": "d86b5449",
   "metadata": {},
   "outputs": [
    {
     "data": {
      "text/plain": [
       "10"
      ]
     },
     "execution_count": 42,
     "metadata": {},
     "output_type": "execute_result"
    }
   ],
   "source": [
    "len(story_blocks)"
   ]
  },
  {
   "cell_type": "code",
   "execution_count": 44,
   "id": "1065f1dd",
   "metadata": {},
   "outputs": [],
   "source": [
    "# Создадим соответствующую функцию\n",
    "def get_story_blocks(html):\n",
    "    \n",
    "    soup = bs4.BeautifulSoup(html, 'html.parser')\n",
    "    content_block = soup.find('div', {'class': 'content'})\n",
    "    story_blocks = content_block.find_all('div', {'class': 'story'})\n",
    "    return story_blocks"
   ]
  },
  {
   "cell_type": "code",
   "execution_count": 45,
   "id": "8fb1ccd9",
   "metadata": {},
   "outputs": [],
   "source": [
    "story_blocks = get_story_block(html)"
   ]
  },
  {
   "cell_type": "markdown",
   "id": "04819a30",
   "metadata": {},
   "source": [
    "## Получение характеристик статей"
   ]
  },
  {
   "cell_type": "markdown",
   "id": "909099e5",
   "metadata": {},
   "source": [
    "* название статьи,\n",
    "* текст статьи,\n",
    "* категорию статьи,\n",
    "* дату выхода статьи в формате даты"
   ]
  },
  {
   "cell_type": "code",
   "execution_count": 46,
   "id": "02f8a089",
   "metadata": {},
   "outputs": [],
   "source": [
    "story_block = story_blocks[0]"
   ]
  },
  {
   "cell_type": "markdown",
   "id": "9ab244b9",
   "metadata": {},
   "source": [
    "### Название статьи"
   ]
  },
  {
   "cell_type": "code",
   "execution_count": 56,
   "id": "0c101d11",
   "metadata": {},
   "outputs": [
    {
     "data": {
      "text/plain": [
       "'Все\\xa0силы отданы борьбе'"
      ]
     },
     "execution_count": 56,
     "metadata": {},
     "output_type": "execute_result"
    }
   ],
   "source": [
    "story_block.h2.text"
   ]
  },
  {
   "cell_type": "code",
   "execution_count": 57,
   "id": "ae5d3e43",
   "metadata": {},
   "outputs": [
    {
     "data": {
      "text/plain": [
       "'Все силы отданы борьбе'"
      ]
     },
     "execution_count": 57,
     "metadata": {},
     "output_type": "execute_result"
    }
   ],
   "source": [
    "story_block.h2.text.replace('\\xa0', ' ')"
   ]
  },
  {
   "cell_type": "markdown",
   "id": "3caea7e3",
   "metadata": {},
   "source": [
    "### Текст статьи"
   ]
  },
  {
   "cell_type": "code",
   "execution_count": 59,
   "id": "297a3968",
   "metadata": {},
   "outputs": [
    {
     "data": {
      "text/plain": [
       "'\\nА\\xa0у\\xa0меня задолбашка примерно такая\\xa0же, как у\\xa0недавней мотоциклистки. Только я\\xa0— пешеход. Но\\xa0тоже задолбали любители обогнать и\\xa0потом уныло плестись. Кстати, не\\xa0только автомобилисты.\\nНо\\xa0начнём все\\xa0же с\\xa0автомобилистов. Классическая ситуация: нерегулируемый ПП, я\\xa0собираюсь переходить дорогу, не\\xa0бегу, не\\xa0выпрыгиваю из\\xa0кустов, спокойно стою и\\xa0жду. Вот авто, казалось\\xa0бы, может затормозить и\\xa0пропустить меня\\xa0— но\\xa0нет, он\\xa0лучше газанет со\\xa0всей дури, чтобы… проехать 100−200м и\\xa0встать в\\xa0пробке. Ну\\xa0и\\xa0что ты\\xa0выиграл, дядя? Да\\xa0ничего.\\nА\\xa0вот уже не\\xa0автомобилисты. Тоже классика\\xa0— стою в\\xa0вагоне в\\xa0метро, готовлюсь выходить. Двери ещё не\\xa0начали открываться, но\\xa0сзади меня уже пихают и\\xa0толкают так, что я\\xa0чуть было не\\xa0падаю. После выхода из\\xa0вагона те, кто только что меня толкал, неспешным лёгким шагом медленно фланируют по\\xa0перрону в\\xa0направлении выхода. Чудаки, вы\\xa0зачем толкались-то? Что вы\\xa0хотели этим выиграть? Тут вообще ни\\xa0секунды выигрыша\\nИли вот сегодня. На\\xa0выходе из\\xa0метро женщина идёт, расталкивая всех локтями, в\\xa0том числе и\\xa0меня. Довольно быстро мы\\xa0с\\xa0ней поравнялись и\\xa0я\\xa0вежливо спросила её, сильно\\xa0ли она в\\xa0итоге обогнала кого-то. В\\xa0ответ\\xa0— поток нецензурной брани. Тётя, ты\\xa0зачем ругаешься? Лучше подумай, стоило\\xa0ли это все лишних глупых телодвижений.\\nДа, задолбали, и\\xa0да, бесите. Думайте иногда головой, а\\xa0не\\xa0спинным мозгом.\\n'"
      ]
     },
     "execution_count": 59,
     "metadata": {},
     "output_type": "execute_result"
    }
   ],
   "source": [
    "story_block.find('div', {'class': 'text'}).text"
   ]
  },
  {
   "cell_type": "code",
   "execution_count": 64,
   "id": "5f13a49d",
   "metadata": {},
   "outputs": [
    {
     "data": {
      "text/plain": [
       "'А у меня задолбашка примерно такая же, как у недавней мотоциклистки. Только я — пешеход. Но тоже задолбали любители обогнать и потом уныло плестись. Кстати, не только автомобилисты. Но начнём все же с автомобилистов. Классическая ситуация: нерегулируемый ПП, я собираюсь переходить дорогу, не бегу, не выпрыгиваю из кустов, спокойно стою и жду. Вот авто, казалось бы, может затормозить и пропустить меня — но нет, он лучше газанет со всей дури, чтобы… проехать 100−200м и встать в пробке. Ну и что ты выиграл, дядя? Да ничего. А вот уже не автомобилисты. Тоже классика — стою в вагоне в метро, готовлюсь выходить. Двери ещё не начали открываться, но сзади меня уже пихают и толкают так, что я чуть было не падаю. После выхода из вагона те, кто только что меня толкал, неспешным лёгким шагом медленно фланируют по перрону в направлении выхода. Чудаки, вы зачем толкались-то? Что вы хотели этим выиграть? Тут вообще ни секунды выигрыша Или вот сегодня. На выходе из метро женщина идёт, расталкивая всех локтями, в том числе и меня. Довольно быстро мы с ней поравнялись и я вежливо спросила её, сильно ли она в итоге обогнала кого-то. В ответ — поток нецензурной брани. Тётя, ты зачем ругаешься? Лучше подумай, стоило ли это все лишних глупых телодвижений. Да, задолбали, и да, бесите. Думайте иногда головой, а не спинным мозгом.'"
      ]
     },
     "execution_count": 64,
     "metadata": {},
     "output_type": "execute_result"
    }
   ],
   "source": [
    "story_block.find('div', {'class': 'text'}).text.replace('\\xa0', ' ').replace('\\n', ' ').strip()"
   ]
  },
  {
   "cell_type": "markdown",
   "id": "df264112",
   "metadata": {},
   "source": [
    "### Категория статьи"
   ]
  },
  {
   "cell_type": "code",
   "execution_count": 69,
   "id": "f957f30a",
   "metadata": {},
   "outputs": [
    {
     "data": {
      "text/plain": [
       "[<li><a href=\"/tag/transport\" itemprop=\"about\">транспорт</a></li>,\n",
       " <li><a href=\"/tag/household\" itemprop=\"about\">быт</a></li>]"
      ]
     },
     "execution_count": 69,
     "metadata": {},
     "output_type": "execute_result"
    }
   ],
   "source": [
    "html_tags = story_block.find('div', {'class': 'tags'}).ul.find_all('li')\n",
    "html_tags"
   ]
  },
  {
   "cell_type": "code",
   "execution_count": 88,
   "id": "67be4109",
   "metadata": {},
   "outputs": [],
   "source": [
    "tags = [html_tag.a.text for html_tag in html_tags]"
   ]
  },
  {
   "cell_type": "code",
   "execution_count": 89,
   "id": "91830144",
   "metadata": {},
   "outputs": [
    {
     "data": {
      "text/plain": [
       "'транспорт, быт'"
      ]
     },
     "execution_count": 89,
     "metadata": {},
     "output_type": "execute_result"
    }
   ],
   "source": [
    "', '.join(tags)"
   ]
  },
  {
   "cell_type": "markdown",
   "id": "9ff513ad",
   "metadata": {},
   "source": [
    "### Дата выхода статьи"
   ]
  },
  {
   "cell_type": "code",
   "execution_count": 78,
   "id": "921a9749",
   "metadata": {},
   "outputs": [
    {
     "data": {
      "text/plain": [
       "<div class=\"meta\">\n",
       "<time class=\"date-time\" datetime=\"2021-09-28T14:48:10+03:00\" itemprop=\"datePublished\">Сегодня, 14:48</time>\n",
       "<div class=\"tags\">\n",
       "<i class=\"icon-tags\"></i>\n",
       "<ul>\n",
       "<li><a href=\"/tag/transport\" itemprop=\"about\">транспорт</a></li>\n",
       "<li><a href=\"/tag/household\" itemprop=\"about\">быт</a></li>\n",
       "</ul>\n",
       "</div>\n",
       "</div>"
      ]
     },
     "execution_count": 78,
     "metadata": {},
     "output_type": "execute_result"
    }
   ],
   "source": [
    "meta_block = story_block.find('div', {'class': 'meta'})\n",
    "meta_block"
   ]
  },
  {
   "cell_type": "code",
   "execution_count": 82,
   "id": "a29a8c89",
   "metadata": {},
   "outputs": [
    {
     "data": {
      "text/plain": [
       "'2021-09-28T14:48:10+03:00'"
      ]
     },
     "execution_count": 82,
     "metadata": {},
     "output_type": "execute_result"
    }
   ],
   "source": [
    "datetime = meta_block.find('time').get('datetime')\n",
    "datetime"
   ]
  },
  {
   "cell_type": "code",
   "execution_count": 83,
   "id": "06effa5e",
   "metadata": {},
   "outputs": [
    {
     "data": {
      "text/plain": [
       "'2021-09-28'"
      ]
     },
     "execution_count": 83,
     "metadata": {},
     "output_type": "execute_result"
    }
   ],
   "source": [
    "datetime.split('T')[0]"
   ]
  },
  {
   "cell_type": "code",
   "execution_count": 95,
   "id": "8268fe9e",
   "metadata": {},
   "outputs": [],
   "source": [
    "# Создадим соответствующую функцию\n",
    "def get_description(story_block):\n",
    "    \n",
    "    try:\n",
    "        title = story_block.h2.text.replace('\\xa0', ' ')\n",
    "    except AttributeError:\n",
    "        title = None\n",
    "    \n",
    "    try:\n",
    "        text = story_block.find('div', {'class': 'text'}).text.replace('\\xa0', ' ').replace('\\n', ' ').strip()\n",
    "    except AttributeError:\n",
    "        text = None\n",
    "        \n",
    "    try:\n",
    "        html_tags = story_block.find('div', {'class': 'tags'}).ul.find_all('li')\n",
    "        tags = [html_tag.a.text for html_tag in html_tags]\n",
    "        tags = ', '.join(tags)\n",
    "    except AttributeError:\n",
    "        tags = None\n",
    "    \n",
    "    try:\n",
    "        meta_block = story_block.find('div', {'class': 'meta'})\n",
    "        datetime = meta_block.find('time').get('datetime')\n",
    "        date = datetime.split('T')[0]\n",
    "    except AttributeError:\n",
    "        date = None\n",
    "    \n",
    "    return {'title': title, 'text': text, 'tags': tags, 'date': date}"
   ]
  },
  {
   "cell_type": "code",
   "execution_count": 98,
   "id": "26d47c1b",
   "metadata": {},
   "outputs": [
    {
     "data": {
      "text/plain": [
       "{'title': 'Все силы отданы борьбе',\n",
       " 'text': 'А у меня задолбашка примерно такая же, как у недавней мотоциклистки. Только я — пешеход. Но тоже задолбали любители обогнать и потом уныло плестись. Кстати, не только автомобилисты. Но начнём все же с автомобилистов. Классическая ситуация: нерегулируемый ПП, я собираюсь переходить дорогу, не бегу, не выпрыгиваю из кустов, спокойно стою и жду. Вот авто, казалось бы, может затормозить и пропустить меня — но нет, он лучше газанет со всей дури, чтобы… проехать 100−200м и встать в пробке. Ну и что ты выиграл, дядя? Да ничего. А вот уже не автомобилисты. Тоже классика — стою в вагоне в метро, готовлюсь выходить. Двери ещё не начали открываться, но сзади меня уже пихают и толкают так, что я чуть было не падаю. После выхода из вагона те, кто только что меня толкал, неспешным лёгким шагом медленно фланируют по перрону в направлении выхода. Чудаки, вы зачем толкались-то? Что вы хотели этим выиграть? Тут вообще ни секунды выигрыша Или вот сегодня. На выходе из метро женщина идёт, расталкивая всех локтями, в том числе и меня. Довольно быстро мы с ней поравнялись и я вежливо спросила её, сильно ли она в итоге обогнала кого-то. В ответ — поток нецензурной брани. Тётя, ты зачем ругаешься? Лучше подумай, стоило ли это все лишних глупых телодвижений. Да, задолбали, и да, бесите. Думайте иногда головой, а не спинным мозгом.',\n",
       " 'tags': 'транспорт, быт',\n",
       " 'date': '2021-09-28'}"
      ]
     },
     "execution_count": 98,
     "metadata": {},
     "output_type": "execute_result"
    }
   ],
   "source": [
    "description = get_description(story_block)\n",
    "description"
   ]
  },
  {
   "cell_type": "markdown",
   "id": "ae37558b",
   "metadata": {},
   "source": [
    "## Итерация по страницам сайта"
   ]
  },
  {
   "cell_type": "markdown",
   "id": "ad55424b",
   "metadata": {},
   "source": [
    "Каждая ссылка на страницу состоит из домена и даты: https://zadolba.li/20210928\n",
    "* Доменая (неизменаяемая) часть: https://zadolba.li/\n",
    "* Дата (изменяемая) часть: 20210928\n",
    "\n",
    "Самая первая дата: 20090908"
   ]
  },
  {
   "cell_type": "code",
   "execution_count": 132,
   "id": "ad809015",
   "metadata": {},
   "outputs": [],
   "source": [
    "domain_part = 'https://zadolba.li/'"
   ]
  },
  {
   "cell_type": "code",
   "execution_count": 115,
   "id": "6233bb15",
   "metadata": {},
   "outputs": [],
   "source": [
    "year1 = 2009\n",
    "month1 = 9\n",
    "day1 = 8\n",
    "start_day = datetime.date(year1, month1, day1)"
   ]
  },
  {
   "cell_type": "code",
   "execution_count": 151,
   "id": "7e3daf66",
   "metadata": {},
   "outputs": [],
   "source": [
    "today = datetime.date.today()"
   ]
  },
  {
   "cell_type": "code",
   "execution_count": 125,
   "id": "55986ab7",
   "metadata": {},
   "outputs": [
    {
     "data": {
      "text/plain": [
       "4403"
      ]
     },
     "execution_count": 125,
     "metadata": {},
     "output_type": "execute_result"
    }
   ],
   "source": [
    "timedelta = today - start_day\n",
    "timedelta.days"
   ]
  },
  {
   "cell_type": "code",
   "execution_count": 133,
   "id": "173bef15",
   "metadata": {},
   "outputs": [
    {
     "name": "stdout",
     "output_type": "stream",
     "text": [
      "https://zadolba.li/20210928\n",
      "https://zadolba.li/20210927\n",
      "https://zadolba.li/20210926\n",
      "https://zadolba.li/20210925\n",
      "https://zadolba.li/20210924\n",
      "https://zadolba.li/20210923\n",
      "https://zadolba.li/20210922\n",
      "https://zadolba.li/20210921\n",
      "https://zadolba.li/20210920\n",
      "https://zadolba.li/20210919\n"
     ]
    }
   ],
   "source": [
    "# Получим последние 10 ссылок\n",
    "for days in range(timedelta.days)[:10]:\n",
    "    \n",
    "    current_day = today - datetime.timedelta(days=days)\n",
    "    date_part = str(current_day).replace('-', '')\n",
    "    print(domain_part + date_part)"
   ]
  },
  {
   "cell_type": "markdown",
   "id": "c47bb628",
   "metadata": {},
   "source": [
    "## Собираем целый парсер"
   ]
  },
  {
   "cell_type": "code",
   "execution_count": 67,
   "id": "494ab53f",
   "metadata": {},
   "outputs": [],
   "source": [
    "class ArticleParser:\n",
    "    \n",
    "    __domain_part = 'https://zadolba.li/'\n",
    "    __first_date = '20090908'\n",
    "    __time_out = 1\n",
    "    \n",
    "    def __init__(self, user_agent=None):\n",
    "        self.__user_agent = user_agent\n",
    "        self.table = pd.DataFrame(columns=['title','text', 'tags', 'date'])\n",
    "    \n",
    "    def start(self, parsing_type, clean_table=True):\n",
    "        if clean_table:\n",
    "            self.table = pd.DataFrame(columns=['title','text', 'tags', 'date'])\n",
    "        \n",
    "        start_day, last_day = self.__calculate_dates(parsing_type)\n",
    "        days = (start_day - last_day).days\n",
    "        day = start_day\n",
    "        \n",
    "        for current_days in tqdm.notebook.tnrange(1, days + 1):\n",
    "            date_part = str(day).replace('-', '')\n",
    "            link = ArticleParser.__domain_part + date_part\n",
    "            html = self.__get_html(link)\n",
    "            day = start_day - datetime.timedelta(days=current_days)\n",
    "            if html is None:\n",
    "                continue\n",
    "            story_blocks = self.__get_story_blocks(html)\n",
    "            for story_block in story_blocks:\n",
    "                description = self.__get_description(story_block)\n",
    "                self.table = self.table.append(description, ignore_index=True)\n",
    "            time.sleep(ArticleParser.__time_out)\n",
    "\n",
    "    def save_table(self, path):\n",
    "        self.table.to_csv(path, sep=';', index=False)\n",
    "    \n",
    "        \n",
    "    def __calculate_dates(self, parsing_type):\n",
    "        if parsing_type[:4] == 'last':\n",
    "            today = datetime.date.today()\n",
    "            try:\n",
    "                number = int(parsing_type.split(' ')[1])\n",
    "            except ValueError:\n",
    "                raise ValueError('The parsing type should be followed by a number (days)')\n",
    "            last_day = today - datetime.timedelta(days=number)\n",
    "            return today, last_day\n",
    "        \n",
    "        elif parsing_type[:5] == 'first':\n",
    "            last_day = datetime.date(int(ArticleParser.__first_date[:4]), \n",
    "                                     int(ArticleParser.__first_date[4:6]), \n",
    "                                     int(ArticleParser.__first_date[6:8]))\n",
    "            try:\n",
    "                number = int(parsing_type.split(' ')[1])\n",
    "            except ValueError:\n",
    "                raise ValueError('The parsing type should be followed by a number (days)')\n",
    "            start_day = last_day + datetime.timedelta(days=number)\n",
    "            return start_day, last_day\n",
    "        \n",
    "        elif parsing_type == 'all':\n",
    "            today = datetime.date.today()\n",
    "            last_day = datetime.date(int(first_date[:4]), int(first_date[4:6]), int(first_date[6:8]))\n",
    "            return today, last_day\n",
    "            \n",
    "        else:\n",
    "            raise ValueError('Uncorrect pasring type. Parsing types starts with only these key-words: last or all')\n",
    "    \n",
    "    def __get_html(self, link):\n",
    "        response = requests.get(link, headers={'User-Agent': self.__user_agent})\n",
    "        if response.ok:\n",
    "            return response.content\n",
    "        else:\n",
    "            return None\n",
    "        \n",
    "    def __get_story_blocks(self, html):\n",
    "        soup = bs4.BeautifulSoup(html, 'html.parser')\n",
    "        content_block = soup.find('div', {'class': 'content'})\n",
    "        story_blocks = content_block.find_all('div', {'class': 'story'})\n",
    "        return story_blocks\n",
    "    \n",
    "    def __get_description(self, story_block):\n",
    "\n",
    "        try:\n",
    "            title = story_block.h2.text.replace('\\xa0', ' ')\n",
    "        except AttributeError:\n",
    "            title = None\n",
    "\n",
    "        try:\n",
    "            text = story_block.find('div', {'class': 'text'}).text.replace('\\xa0', ' ').replace('\\n', ' ').strip()\n",
    "        except AttributeError:\n",
    "            text = None\n",
    "\n",
    "        try:\n",
    "            html_tags = story_block.find('div', {'class': 'tags'}).ul.find_all('li')\n",
    "            tags = [html_tag.a.text for html_tag in html_tags]\n",
    "            tags = ', '.join(tags)\n",
    "        except AttributeError:\n",
    "            tags = None\n",
    "\n",
    "        try:\n",
    "            meta_block = story_block.find('div', {'class': 'meta'})\n",
    "            datetime = meta_block.find('time').get('datetime')\n",
    "            date = datetime.split('T')[0]\n",
    "        except AttributeError:\n",
    "            date = None\n",
    "\n",
    "        return {'title': title, 'text': text, 'tags': tags, 'date': date}"
   ]
  },
  {
   "cell_type": "code",
   "execution_count": 68,
   "id": "71e67f0d",
   "metadata": {},
   "outputs": [],
   "source": [
    "parser = ArticleParser()"
   ]
  },
  {
   "cell_type": "code",
   "execution_count": 72,
   "id": "47f7adef",
   "metadata": {},
   "outputs": [
    {
     "data": {
      "application/vnd.jupyter.widget-view+json": {
       "model_id": "67ca52296df14649ae3bf03918e5d4a4",
       "version_major": 2,
       "version_minor": 0
      },
      "text/plain": [
       "  0%|          | 0/50 [00:00<?, ?it/s]"
      ]
     },
     "metadata": {},
     "output_type": "display_data"
    }
   ],
   "source": [
    "parser.start(parsing_type='first 50', clean_table=False)"
   ]
  },
  {
   "cell_type": "code",
   "execution_count": 73,
   "id": "3ebc363d",
   "metadata": {},
   "outputs": [
    {
     "name": "stdout",
     "output_type": "stream",
     "text": [
      "<class 'pandas.core.frame.DataFrame'>\n",
      "RangeIndex: 223 entries, 0 to 222\n",
      "Data columns (total 4 columns):\n",
      " #   Column  Non-Null Count  Dtype \n",
      "---  ------  --------------  ----- \n",
      " 0   title   223 non-null    object\n",
      " 1   text    223 non-null    object\n",
      " 2   tags    201 non-null    object\n",
      " 3   date    223 non-null    object\n",
      "dtypes: object(4)\n",
      "memory usage: 7.1+ KB\n"
     ]
    }
   ],
   "source": [
    "parser.table.info()"
   ]
  },
  {
   "cell_type": "code",
   "execution_count": 74,
   "id": "e62c1656",
   "metadata": {},
   "outputs": [
    {
     "data": {
      "text/html": [
       "<div>\n",
       "<style scoped>\n",
       "    .dataframe tbody tr th:only-of-type {\n",
       "        vertical-align: middle;\n",
       "    }\n",
       "\n",
       "    .dataframe tbody tr th {\n",
       "        vertical-align: top;\n",
       "    }\n",
       "\n",
       "    .dataframe thead th {\n",
       "        text-align: right;\n",
       "    }\n",
       "</style>\n",
       "<table border=\"1\" class=\"dataframe\">\n",
       "  <thead>\n",
       "    <tr style=\"text-align: right;\">\n",
       "      <th></th>\n",
       "      <th>title</th>\n",
       "      <th>text</th>\n",
       "      <th>tags</th>\n",
       "      <th>date</th>\n",
       "    </tr>\n",
       "  </thead>\n",
       "  <tbody>\n",
       "    <tr>\n",
       "      <th>105</th>\n",
       "      <td>Deep Blue</td>\n",
       "      <td>Четыре года назад я работал в отделе аудио/вид...</td>\n",
       "      <td>реклама</td>\n",
       "      <td>2009-10-20</td>\n",
       "    </tr>\n",
       "    <tr>\n",
       "      <th>57</th>\n",
       "      <td>Рацпредложение: напишите «не нажимать»</td>\n",
       "      <td>Работали мы с товарищем на складе по отгрузке ...</td>\n",
       "      <td>покупатели</td>\n",
       "      <td>2009-10-24</td>\n",
       "    </tr>\n",
       "    <tr>\n",
       "      <th>180</th>\n",
       "      <td>Зверский аппетит</td>\n",
       "      <td>Работала как-то я на базе, которая обслуживала...</td>\n",
       "      <td>продавцы, общепит</td>\n",
       "      <td>2009-10-14</td>\n",
       "    </tr>\n",
       "    <tr>\n",
       "      <th>14</th>\n",
       "      <td>В поисках альтер-эго</td>\n",
       "      <td>Подрабатываю в ларьке типа «сад-огород». Кажды...</td>\n",
       "      <td>покупатели</td>\n",
       "      <td>2009-10-27</td>\n",
       "    </tr>\n",
       "    <tr>\n",
       "      <th>196</th>\n",
       "      <td>И хрюкотали зелюки, как мюмзики в мове</td>\n",
       "      <td>Звонок в сервисный центр.— У меня телевизор та...</td>\n",
       "      <td>телефонограммы, сервис</td>\n",
       "      <td>2009-10-12</td>\n",
       "    </tr>\n",
       "  </tbody>\n",
       "</table>\n",
       "</div>"
      ],
      "text/plain": [
       "                                      title  \\\n",
       "105                               Deep Blue   \n",
       "57   Рацпредложение: напишите «не нажимать»   \n",
       "180                        Зверский аппетит   \n",
       "14                     В поисках альтер-эго   \n",
       "196  И хрюкотали зелюки, как мюмзики в мове   \n",
       "\n",
       "                                                  text  \\\n",
       "105  Четыре года назад я работал в отделе аудио/вид...   \n",
       "57   Работали мы с товарищем на складе по отгрузке ...   \n",
       "180  Работала как-то я на базе, которая обслуживала...   \n",
       "14   Подрабатываю в ларьке типа «сад-огород». Кажды...   \n",
       "196  Звонок в сервисный центр.— У меня телевизор та...   \n",
       "\n",
       "                       tags        date  \n",
       "105                 реклама  2009-10-20  \n",
       "57               покупатели  2009-10-24  \n",
       "180       продавцы, общепит  2009-10-14  \n",
       "14               покупатели  2009-10-27  \n",
       "196  телефонограммы, сервис  2009-10-12  "
      ]
     },
     "execution_count": 74,
     "metadata": {},
     "output_type": "execute_result"
    }
   ],
   "source": [
    "parser.table.sample(5)"
   ]
  },
  {
   "cell_type": "code",
   "execution_count": 75,
   "id": "e689690f",
   "metadata": {},
   "outputs": [],
   "source": [
    "parser.save_table(path='article_data.csv')"
   ]
  },
  {
   "cell_type": "code",
   "execution_count": null,
   "id": "3483b6c7",
   "metadata": {},
   "outputs": [],
   "source": []
  }
 ],
 "metadata": {
  "kernelspec": {
   "display_name": "Python 3",
   "language": "python",
   "name": "python3"
  },
  "language_info": {
   "codemirror_mode": {
    "name": "ipython",
    "version": 3
   },
   "file_extension": ".py",
   "mimetype": "text/x-python",
   "name": "python",
   "nbconvert_exporter": "python",
   "pygments_lexer": "ipython3",
   "version": "3.9.5"
  }
 },
 "nbformat": 4,
 "nbformat_minor": 5
}
