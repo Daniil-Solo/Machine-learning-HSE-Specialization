{
 "cells": [
  {
   "cell_type": "markdown",
   "id": "0ab0eadb",
   "metadata": {},
   "source": [
    "# Рейтинги Шоколадных батончиков"
   ]
  },
  {
   "cell_type": "markdown",
   "id": "cbca0231",
   "metadata": {},
   "source": [
    "Проведение __Разведочного анализа данных__ для набора данных про рейтинг шоколадных батончиков\n",
    "\n",
    "[Ссылка на Kaggle](https://www.kaggle.com/rtatman/chocolate-bar-ratings)"
   ]
  },
  {
   "cell_type": "markdown",
   "id": "3460c7b1",
   "metadata": {},
   "source": [
    "## Импорт библиотек"
   ]
  },
  {
   "cell_type": "code",
   "execution_count": 38,
   "id": "8fff08f9",
   "metadata": {},
   "outputs": [],
   "source": [
    "import pandas as pd\n",
    "import numpy as np\n",
    "import matplotlib.pyplot as plt\n",
    "import seaborn as sns \n",
    "\n",
    "plt.style.use('ggplot')"
   ]
  },
  {
   "cell_type": "markdown",
   "id": "0c82a5c0",
   "metadata": {},
   "source": [
    "## Загрузка датасета"
   ]
  },
  {
   "cell_type": "code",
   "execution_count": 2,
   "id": "123b3bdd",
   "metadata": {},
   "outputs": [],
   "source": [
    "cacao_df = pd.read_csv('flavors_of_cacao.csv', sep=',')"
   ]
  },
  {
   "cell_type": "code",
   "execution_count": 3,
   "id": "a035f899",
   "metadata": {},
   "outputs": [],
   "source": [
    "# Исправление названий признаков\n",
    "cacao_df.columns = ['Company', 'Specific_Bean_Origin', 'REF', 'Review_Date', \n",
    "                    'Cocoa_Percent', 'Company_Location', 'Rating', 'Bean_Type', \n",
    "                    'Bean_Origin']"
   ]
  },
  {
   "cell_type": "code",
   "execution_count": 4,
   "id": "06649780",
   "metadata": {},
   "outputs": [
    {
     "data": {
      "text/html": [
       "<div>\n",
       "<style scoped>\n",
       "    .dataframe tbody tr th:only-of-type {\n",
       "        vertical-align: middle;\n",
       "    }\n",
       "\n",
       "    .dataframe tbody tr th {\n",
       "        vertical-align: top;\n",
       "    }\n",
       "\n",
       "    .dataframe thead th {\n",
       "        text-align: right;\n",
       "    }\n",
       "</style>\n",
       "<table border=\"1\" class=\"dataframe\">\n",
       "  <thead>\n",
       "    <tr style=\"text-align: right;\">\n",
       "      <th></th>\n",
       "      <th>Company</th>\n",
       "      <th>Specific_Bean_Origin</th>\n",
       "      <th>REF</th>\n",
       "      <th>Review_Date</th>\n",
       "      <th>Cocoa_Percent</th>\n",
       "      <th>Company_Location</th>\n",
       "      <th>Rating</th>\n",
       "      <th>Bean_Type</th>\n",
       "      <th>Bean_Origin</th>\n",
       "    </tr>\n",
       "  </thead>\n",
       "  <tbody>\n",
       "    <tr>\n",
       "      <th>41</th>\n",
       "      <td>Alexandre</td>\n",
       "      <td>La Dalia, Matagalpa</td>\n",
       "      <td>1944</td>\n",
       "      <td>2017</td>\n",
       "      <td>70%</td>\n",
       "      <td>Netherlands</td>\n",
       "      <td>3.5</td>\n",
       "      <td>Criollo, Trinitario</td>\n",
       "      <td>Nicaragua</td>\n",
       "    </tr>\n",
       "    <tr>\n",
       "      <th>673</th>\n",
       "      <td>French Broad</td>\n",
       "      <td>Palo Blanco, Chulucanas</td>\n",
       "      <td>1042</td>\n",
       "      <td>2013</td>\n",
       "      <td>66%</td>\n",
       "      <td>U.S.A.</td>\n",
       "      <td>3.5</td>\n",
       "      <td></td>\n",
       "      <td>Peru</td>\n",
       "    </tr>\n",
       "    <tr>\n",
       "      <th>1700</th>\n",
       "      <td>Valrhona</td>\n",
       "      <td>Gran Couva 2005 P.</td>\n",
       "      <td>75</td>\n",
       "      <td>2006</td>\n",
       "      <td>64%</td>\n",
       "      <td>France</td>\n",
       "      <td>2.5</td>\n",
       "      <td>Trinitario</td>\n",
       "      <td>Trinidad</td>\n",
       "    </tr>\n",
       "    <tr>\n",
       "      <th>1583</th>\n",
       "      <td>Stone Grindz</td>\n",
       "      <td>Ecuador, Twilght Dark</td>\n",
       "      <td>1291</td>\n",
       "      <td>2014</td>\n",
       "      <td>70%</td>\n",
       "      <td>U.S.A.</td>\n",
       "      <td>3.5</td>\n",
       "      <td></td>\n",
       "      <td>Ecuador</td>\n",
       "    </tr>\n",
       "    <tr>\n",
       "      <th>1291</th>\n",
       "      <td>Pierre Marcolini</td>\n",
       "      <td>Fleur de Cacao</td>\n",
       "      <td>166</td>\n",
       "      <td>2007</td>\n",
       "      <td>85%</td>\n",
       "      <td>Belgium</td>\n",
       "      <td>3.5</td>\n",
       "      <td>Blend</td>\n",
       "      <td>Venezuela/ Ghana</td>\n",
       "    </tr>\n",
       "  </tbody>\n",
       "</table>\n",
       "</div>"
      ],
      "text/plain": [
       "               Company     Specific_Bean_Origin   REF  Review_Date  \\\n",
       "41           Alexandre      La Dalia, Matagalpa  1944         2017   \n",
       "673       French Broad  Palo Blanco, Chulucanas  1042         2013   \n",
       "1700          Valrhona       Gran Couva 2005 P.    75         2006   \n",
       "1583      Stone Grindz    Ecuador, Twilght Dark  1291         2014   \n",
       "1291  Pierre Marcolini           Fleur de Cacao   166         2007   \n",
       "\n",
       "     Cocoa_Percent Company_Location  Rating            Bean_Type  \\\n",
       "41             70%      Netherlands     3.5  Criollo, Trinitario   \n",
       "673            66%           U.S.A.     3.5                        \n",
       "1700           64%           France     2.5           Trinitario   \n",
       "1583           70%           U.S.A.     3.5                        \n",
       "1291           85%          Belgium     3.5                Blend   \n",
       "\n",
       "           Bean_Origin  \n",
       "41           Nicaragua  \n",
       "673               Peru  \n",
       "1700          Trinidad  \n",
       "1583           Ecuador  \n",
       "1291  Venezuela/ Ghana  "
      ]
     },
     "execution_count": 4,
     "metadata": {},
     "output_type": "execute_result"
    }
   ],
   "source": [
    "cacao_df.sample(5)"
   ]
  },
  {
   "cell_type": "markdown",
   "id": "f80c3028",
   "metadata": {},
   "source": [
    "## Описание признаков"
   ]
  },
  {
   "cell_type": "markdown",
   "id": "db6ddd73",
   "metadata": {},
   "source": [
    "* __Company__ - название компании-производителя шоколадных батончиков\n",
    "* __Specific_Bean_Origin__ - конкретный географический регион, где выращивают какао-бобы\n",
    "* __REF__ - значение, связанное с датой введения отзыва в базу. Чем значение выше, тем позже отзыв был добавлен в базу данных\n",
    "* __Review_Date__ - дата публикации отзыва\n",
    "* __Cocoa_Percent__ - процентное содержание какао\n",
    "* __Company_Location__ - страна-производитель\n",
    "* __Rating__ - экспертная оценка шоколадного батончика\n",
    "* __Bean_Type__ - сорт какао-боба\n",
    "* __Bean_Origin__ - географический регион, где выращивают какао-бобы"
   ]
  },
  {
   "cell_type": "markdown",
   "id": "acfa91c3",
   "metadata": {},
   "source": [
    "## Описание набора данных"
   ]
  },
  {
   "cell_type": "code",
   "execution_count": 5,
   "id": "7fc7eb5f",
   "metadata": {},
   "outputs": [
    {
     "name": "stdout",
     "output_type": "stream",
     "text": [
      "<class 'pandas.core.frame.DataFrame'>\n",
      "RangeIndex: 1795 entries, 0 to 1794\n",
      "Data columns (total 9 columns):\n",
      " #   Column                Non-Null Count  Dtype  \n",
      "---  ------                --------------  -----  \n",
      " 0   Company               1795 non-null   object \n",
      " 1   Specific_Bean_Origin  1795 non-null   object \n",
      " 2   REF                   1795 non-null   int64  \n",
      " 3   Review_Date           1795 non-null   int64  \n",
      " 4   Cocoa_Percent         1795 non-null   object \n",
      " 5   Company_Location      1795 non-null   object \n",
      " 6   Rating                1795 non-null   float64\n",
      " 7   Bean_Type             1794 non-null   object \n",
      " 8   Bean_Origin           1794 non-null   object \n",
      "dtypes: float64(1), int64(2), object(6)\n",
      "memory usage: 126.3+ KB\n"
     ]
    }
   ],
   "source": [
    "cacao_df.info()"
   ]
  },
  {
   "cell_type": "code",
   "execution_count": 6,
   "id": "5678493e",
   "metadata": {},
   "outputs": [
    {
     "data": {
      "text/html": [
       "<div>\n",
       "<style scoped>\n",
       "    .dataframe tbody tr th:only-of-type {\n",
       "        vertical-align: middle;\n",
       "    }\n",
       "\n",
       "    .dataframe tbody tr th {\n",
       "        vertical-align: top;\n",
       "    }\n",
       "\n",
       "    .dataframe thead th {\n",
       "        text-align: right;\n",
       "    }\n",
       "</style>\n",
       "<table border=\"1\" class=\"dataframe\">\n",
       "  <thead>\n",
       "    <tr style=\"text-align: right;\">\n",
       "      <th></th>\n",
       "      <th>REF</th>\n",
       "      <th>Review_Date</th>\n",
       "      <th>Rating</th>\n",
       "    </tr>\n",
       "  </thead>\n",
       "  <tbody>\n",
       "    <tr>\n",
       "      <th>count</th>\n",
       "      <td>1795.000000</td>\n",
       "      <td>1795.000000</td>\n",
       "      <td>1795.000000</td>\n",
       "    </tr>\n",
       "    <tr>\n",
       "      <th>mean</th>\n",
       "      <td>1035.904735</td>\n",
       "      <td>2012.325348</td>\n",
       "      <td>3.185933</td>\n",
       "    </tr>\n",
       "    <tr>\n",
       "      <th>std</th>\n",
       "      <td>552.886365</td>\n",
       "      <td>2.927210</td>\n",
       "      <td>0.478062</td>\n",
       "    </tr>\n",
       "    <tr>\n",
       "      <th>min</th>\n",
       "      <td>5.000000</td>\n",
       "      <td>2006.000000</td>\n",
       "      <td>1.000000</td>\n",
       "    </tr>\n",
       "    <tr>\n",
       "      <th>25%</th>\n",
       "      <td>576.000000</td>\n",
       "      <td>2010.000000</td>\n",
       "      <td>2.875000</td>\n",
       "    </tr>\n",
       "    <tr>\n",
       "      <th>50%</th>\n",
       "      <td>1069.000000</td>\n",
       "      <td>2013.000000</td>\n",
       "      <td>3.250000</td>\n",
       "    </tr>\n",
       "    <tr>\n",
       "      <th>75%</th>\n",
       "      <td>1502.000000</td>\n",
       "      <td>2015.000000</td>\n",
       "      <td>3.500000</td>\n",
       "    </tr>\n",
       "    <tr>\n",
       "      <th>max</th>\n",
       "      <td>1952.000000</td>\n",
       "      <td>2017.000000</td>\n",
       "      <td>5.000000</td>\n",
       "    </tr>\n",
       "  </tbody>\n",
       "</table>\n",
       "</div>"
      ],
      "text/plain": [
       "               REF  Review_Date       Rating\n",
       "count  1795.000000  1795.000000  1795.000000\n",
       "mean   1035.904735  2012.325348     3.185933\n",
       "std     552.886365     2.927210     0.478062\n",
       "min       5.000000  2006.000000     1.000000\n",
       "25%     576.000000  2010.000000     2.875000\n",
       "50%    1069.000000  2013.000000     3.250000\n",
       "75%    1502.000000  2015.000000     3.500000\n",
       "max    1952.000000  2017.000000     5.000000"
      ]
     },
     "execution_count": 6,
     "metadata": {},
     "output_type": "execute_result"
    }
   ],
   "source": [
    "cacao_df.describe()"
   ]
  },
  {
   "cell_type": "code",
   "execution_count": 7,
   "id": "28e112c1",
   "metadata": {},
   "outputs": [
    {
     "data": {
      "text/html": [
       "<div>\n",
       "<style scoped>\n",
       "    .dataframe tbody tr th:only-of-type {\n",
       "        vertical-align: middle;\n",
       "    }\n",
       "\n",
       "    .dataframe tbody tr th {\n",
       "        vertical-align: top;\n",
       "    }\n",
       "\n",
       "    .dataframe thead th {\n",
       "        text-align: right;\n",
       "    }\n",
       "</style>\n",
       "<table border=\"1\" class=\"dataframe\">\n",
       "  <thead>\n",
       "    <tr style=\"text-align: right;\">\n",
       "      <th></th>\n",
       "      <th>Company</th>\n",
       "      <th>Specific_Bean_Origin</th>\n",
       "      <th>Cocoa_Percent</th>\n",
       "      <th>Company_Location</th>\n",
       "      <th>Bean_Type</th>\n",
       "      <th>Bean_Origin</th>\n",
       "    </tr>\n",
       "  </thead>\n",
       "  <tbody>\n",
       "    <tr>\n",
       "      <th>count</th>\n",
       "      <td>1795</td>\n",
       "      <td>1795</td>\n",
       "      <td>1795</td>\n",
       "      <td>1795</td>\n",
       "      <td>1794</td>\n",
       "      <td>1794</td>\n",
       "    </tr>\n",
       "    <tr>\n",
       "      <th>unique</th>\n",
       "      <td>416</td>\n",
       "      <td>1039</td>\n",
       "      <td>45</td>\n",
       "      <td>60</td>\n",
       "      <td>41</td>\n",
       "      <td>100</td>\n",
       "    </tr>\n",
       "    <tr>\n",
       "      <th>top</th>\n",
       "      <td>Soma</td>\n",
       "      <td>Madagascar</td>\n",
       "      <td>70%</td>\n",
       "      <td>U.S.A.</td>\n",
       "      <td></td>\n",
       "      <td>Venezuela</td>\n",
       "    </tr>\n",
       "    <tr>\n",
       "      <th>freq</th>\n",
       "      <td>47</td>\n",
       "      <td>57</td>\n",
       "      <td>672</td>\n",
       "      <td>764</td>\n",
       "      <td>887</td>\n",
       "      <td>214</td>\n",
       "    </tr>\n",
       "  </tbody>\n",
       "</table>\n",
       "</div>"
      ],
      "text/plain": [
       "       Company Specific_Bean_Origin Cocoa_Percent Company_Location Bean_Type  \\\n",
       "count     1795                 1795          1795             1795      1794   \n",
       "unique     416                 1039            45               60        41   \n",
       "top       Soma           Madagascar           70%           U.S.A.             \n",
       "freq        47                   57           672              764       887   \n",
       "\n",
       "       Bean_Origin  \n",
       "count         1794  \n",
       "unique         100  \n",
       "top      Venezuela  \n",
       "freq           214  "
      ]
     },
     "execution_count": 7,
     "metadata": {},
     "output_type": "execute_result"
    }
   ],
   "source": [
    "cacao_df.describe(include='object')"
   ]
  },
  {
   "cell_type": "markdown",
   "id": "5a5693f6",
   "metadata": {},
   "source": [
    "## Заполнение пропусков"
   ]
  },
  {
   "cell_type": "code",
   "execution_count": 78,
   "id": "911a3b15",
   "metadata": {},
   "outputs": [],
   "source": [
    "cacao_df.Bean_Type.fillna('Unknown', inplace=True)\n",
    "cacao_df.Bean_Type = cacao_df.Bean_Type.apply(lambda bt: bt if bt != '\\xa0' else 'Unknown')\n",
    "\n",
    "cacao_df.Bean_Origin.fillna('Unknown', inplace=True)\n",
    "cacao_df.Bean_Origin = cacao_df.Bean_Origin.apply(lambda bo: bo if bo != '\\xa0' else 'Unknown')"
   ]
  },
  {
   "cell_type": "markdown",
   "id": "4e44d07b",
   "metadata": {},
   "source": [
    "# Анализ количественных данных"
   ]
  },
  {
   "cell_type": "code",
   "execution_count": 10,
   "id": "d46bdd10",
   "metadata": {},
   "outputs": [],
   "source": [
    "# Переводим процент какао в количественную переменную\n",
    "cacao_df.Cocoa_Percent = cacao_df.Cocoa_Percent.apply(lambda cp: cp[:-1]).astype(float)"
   ]
  },
  {
   "cell_type": "code",
   "execution_count": 11,
   "id": "7e401de9",
   "metadata": {},
   "outputs": [
    {
     "data": {
      "text/html": [
       "<div>\n",
       "<style scoped>\n",
       "    .dataframe tbody tr th:only-of-type {\n",
       "        vertical-align: middle;\n",
       "    }\n",
       "\n",
       "    .dataframe tbody tr th {\n",
       "        vertical-align: top;\n",
       "    }\n",
       "\n",
       "    .dataframe thead th {\n",
       "        text-align: right;\n",
       "    }\n",
       "</style>\n",
       "<table border=\"1\" class=\"dataframe\">\n",
       "  <thead>\n",
       "    <tr style=\"text-align: right;\">\n",
       "      <th></th>\n",
       "      <th>REF</th>\n",
       "      <th>Review_Date</th>\n",
       "      <th>Cocoa_Percent</th>\n",
       "      <th>Rating</th>\n",
       "    </tr>\n",
       "  </thead>\n",
       "  <tbody>\n",
       "    <tr>\n",
       "      <th>count</th>\n",
       "      <td>1795.000000</td>\n",
       "      <td>1795.000000</td>\n",
       "      <td>1795.000000</td>\n",
       "      <td>1795.000000</td>\n",
       "    </tr>\n",
       "    <tr>\n",
       "      <th>mean</th>\n",
       "      <td>1035.904735</td>\n",
       "      <td>2012.325348</td>\n",
       "      <td>71.698329</td>\n",
       "      <td>3.185933</td>\n",
       "    </tr>\n",
       "    <tr>\n",
       "      <th>std</th>\n",
       "      <td>552.886365</td>\n",
       "      <td>2.927210</td>\n",
       "      <td>6.323118</td>\n",
       "      <td>0.478062</td>\n",
       "    </tr>\n",
       "    <tr>\n",
       "      <th>min</th>\n",
       "      <td>5.000000</td>\n",
       "      <td>2006.000000</td>\n",
       "      <td>42.000000</td>\n",
       "      <td>1.000000</td>\n",
       "    </tr>\n",
       "    <tr>\n",
       "      <th>25%</th>\n",
       "      <td>576.000000</td>\n",
       "      <td>2010.000000</td>\n",
       "      <td>70.000000</td>\n",
       "      <td>2.875000</td>\n",
       "    </tr>\n",
       "    <tr>\n",
       "      <th>50%</th>\n",
       "      <td>1069.000000</td>\n",
       "      <td>2013.000000</td>\n",
       "      <td>70.000000</td>\n",
       "      <td>3.250000</td>\n",
       "    </tr>\n",
       "    <tr>\n",
       "      <th>75%</th>\n",
       "      <td>1502.000000</td>\n",
       "      <td>2015.000000</td>\n",
       "      <td>75.000000</td>\n",
       "      <td>3.500000</td>\n",
       "    </tr>\n",
       "    <tr>\n",
       "      <th>max</th>\n",
       "      <td>1952.000000</td>\n",
       "      <td>2017.000000</td>\n",
       "      <td>100.000000</td>\n",
       "      <td>5.000000</td>\n",
       "    </tr>\n",
       "  </tbody>\n",
       "</table>\n",
       "</div>"
      ],
      "text/plain": [
       "               REF  Review_Date  Cocoa_Percent       Rating\n",
       "count  1795.000000  1795.000000    1795.000000  1795.000000\n",
       "mean   1035.904735  2012.325348      71.698329     3.185933\n",
       "std     552.886365     2.927210       6.323118     0.478062\n",
       "min       5.000000  2006.000000      42.000000     1.000000\n",
       "25%     576.000000  2010.000000      70.000000     2.875000\n",
       "50%    1069.000000  2013.000000      70.000000     3.250000\n",
       "75%    1502.000000  2015.000000      75.000000     3.500000\n",
       "max    1952.000000  2017.000000     100.000000     5.000000"
      ]
     },
     "execution_count": 11,
     "metadata": {},
     "output_type": "execute_result"
    }
   ],
   "source": [
    "cacao_df.describe()"
   ]
  },
  {
   "cell_type": "markdown",
   "id": "f5cc1cd0",
   "metadata": {},
   "source": [
    "## REF"
   ]
  },
  {
   "cell_type": "code",
   "execution_count": 14,
   "id": "45459e4d",
   "metadata": {},
   "outputs": [
    {
     "data": {
      "text/plain": [
       "<AxesSubplot:>"
      ]
     },
     "execution_count": 14,
     "metadata": {},
     "output_type": "execute_result"
    },
    {
     "data": {
      "image/png": "[encoded data removed]",
      "text/plain": [
       "<Figure size 1008x360 with 2 Axes>"
      ]
     },
     "metadata": {},
     "output_type": "display_data"
    }
   ],
   "source": [
    "fig, axes = plt.subplots(1, 2, figsize=(14, 5))\n",
    "cacao_df.REF.hist(bins=20, ax=axes[0])\n",
    "cacao_df.boxplot(column='REF', ax=axes[1])"
   ]
  },
  {
   "cell_type": "markdown",
   "id": "ea2cfc91",
   "metadata": {},
   "source": [
    "Как видно, REF не содержит выбросов"
   ]
  },
  {
   "cell_type": "markdown",
   "id": "0497a36d",
   "metadata": {},
   "source": [
    "## Review_Date"
   ]
  },
  {
   "cell_type": "code",
   "execution_count": 15,
   "id": "4271673e",
   "metadata": {},
   "outputs": [
    {
     "data": {
      "text/plain": [
       "<AxesSubplot:>"
      ]
     },
     "execution_count": 15,
     "metadata": {},
     "output_type": "execute_result"
    },
    {
     "data": {
      "image/png": "[encoded data removed]",
      "text/plain": [
       "<Figure size 1008x360 with 2 Axes>"
      ]
     },
     "metadata": {},
     "output_type": "display_data"
    }
   ],
   "source": [
    "fig, axes = plt.subplots(1, 2, figsize=(14, 5))\n",
    "\n",
    "cacao_df.Review_Date.value_counts(normalize=True).sort_index().plot(kind='bar', ax=axes[0]);\n",
    "cacao_df.boxplot(column='Review_Date', ax=axes[1])"
   ]
  },
  {
   "cell_type": "markdown",
   "id": "987afa70",
   "metadata": {},
   "source": [
    "Review_Date также не содержит выбросов, причем количество добавлений отзывов растет с годом, но до 2015 года"
   ]
  },
  {
   "cell_type": "markdown",
   "id": "238cefc1",
   "metadata": {},
   "source": [
    "## Cocoa_Percent"
   ]
  },
  {
   "cell_type": "code",
   "execution_count": 16,
   "id": "2e9ed9f3",
   "metadata": {},
   "outputs": [
    {
     "data": {
      "text/plain": [
       "<AxesSubplot:>"
      ]
     },
     "execution_count": 16,
     "metadata": {},
     "output_type": "execute_result"
    },
    {
     "data": {
      "image/png": "[encoded data removed]",
      "text/plain": [
       "<Figure size 1008x360 with 2 Axes>"
      ]
     },
     "metadata": {},
     "output_type": "display_data"
    }
   ],
   "source": [
    "fig, axes = plt.subplots(1, 2, figsize=(14, 5))\n",
    "\n",
    "cacao_df.Cocoa_Percent.hist(bins=20, ax=axes[0])\n",
    "cacao_df.boxplot(column='Cocoa_Percent', ax=axes[1])"
   ]
  },
  {
   "cell_type": "markdown",
   "id": "103e4fb7",
   "metadata": {},
   "source": [
    "По графикам видно, что переменная имеет выбросы в обоих направлениях"
   ]
  },
  {
   "cell_type": "code",
   "execution_count": 17,
   "id": "9e3a727e",
   "metadata": {},
   "outputs": [
    {
     "data": {
      "image/png": "[encoded data removed]",
      "text/plain": [
       "<Figure size 432x288 with 1 Axes>"
      ]
     },
     "metadata": {},
     "output_type": "display_data"
    }
   ],
   "source": [
    "cacao_df.Cocoa_Percent.apply(lambda w: np.log(w + 1)).hist(bins=20);"
   ]
  },
  {
   "cell_type": "markdown",
   "id": "22ced370",
   "metadata": {},
   "source": [
    "Логарифмирование не даст улучшения, так как переменная имеет тяжелые хвосты в том и другом направлении"
   ]
  },
  {
   "cell_type": "markdown",
   "id": "aa654673",
   "metadata": {},
   "source": [
    "## Rating"
   ]
  },
  {
   "cell_type": "code",
   "execution_count": 21,
   "id": "f2338e72",
   "metadata": {},
   "outputs": [
    {
     "data": {
      "text/plain": [
       "<AxesSubplot:>"
      ]
     },
     "execution_count": 21,
     "metadata": {},
     "output_type": "execute_result"
    },
    {
     "data": {
      "image/png": "[encoded data removed]",
      "text/plain": [
       "<Figure size 1008x432 with 2 Axes>"
      ]
     },
     "metadata": {},
     "output_type": "display_data"
    }
   ],
   "source": [
    "fig, axes = plt.subplots(1, 2, figsize=(14, 6))\n",
    "\n",
    "cacao_df.Rating.value_counts(normalize=True).sort_index().plot(kind='barh', ax=axes[0])\n",
    "cacao_df.boxplot(column='Rating', ax=axes[1])"
   ]
  },
  {
   "cell_type": "code",
   "execution_count": 22,
   "id": "8a96850e",
   "metadata": {},
   "outputs": [
    {
     "data": {
      "text/plain": [
       "1.00      4\n",
       "1.50     10\n",
       "1.75      3\n",
       "2.00     32\n",
       "2.25     14\n",
       "2.50    127\n",
       "2.75    259\n",
       "3.00    341\n",
       "3.25    303\n",
       "3.50    392\n",
       "3.75    210\n",
       "4.00     98\n",
       "5.00      2\n",
       "Name: Rating, dtype: int64"
      ]
     },
     "execution_count": 22,
     "metadata": {},
     "output_type": "execute_result"
    }
   ],
   "source": [
    "cacao_df.Rating.value_counts().sort_index()"
   ]
  },
  {
   "cell_type": "markdown",
   "id": "996812d6",
   "metadata": {},
   "source": [
    "Переменная имеет выбросы, связанные с 2 максимальными оценками и 17 минимальными оценками"
   ]
  },
  {
   "cell_type": "markdown",
   "id": "be4dd2fb",
   "metadata": {},
   "source": [
    "# Анализ совокупности количественных признаков"
   ]
  },
  {
   "cell_type": "markdown",
   "id": "e815c8e4",
   "metadata": {},
   "source": [
    "Рассмотрим, влияет ли процентное содержание какао на оценку"
   ]
  },
  {
   "cell_type": "code",
   "execution_count": 30,
   "id": "7c7a0ee0",
   "metadata": {},
   "outputs": [
    {
     "data": {
      "text/plain": [
       "<AxesSubplot:xlabel='Cocoa_Percent', ylabel='Rating'>"
      ]
     },
     "execution_count": 30,
     "metadata": {},
     "output_type": "execute_result"
    },
    {
     "data": {
      "image/png": "[encoded data removed]",
      "text/plain": [
       "<Figure size 720x432 with 1 Axes>"
      ]
     },
     "metadata": {},
     "output_type": "display_data"
    }
   ],
   "source": [
    "fig, ax = plt.subplots(figsize=(10, 6))\n",
    "cacao_df.plot(x='Cocoa_Percent', y='Rating', kind='scatter', ax=ax)"
   ]
  },
  {
   "cell_type": "markdown",
   "id": "aad44bbd",
   "metadata": {},
   "source": [
    "Удивительно, но максимальную оценку получили батончики, имеющие 70 процентное содержание какао.\n",
    "\n",
    "100-процентное содержание какао не обеспечивает высокой оценки. Возможно это связано с тем, что эксперты считали, что высокое содержание какао улучшит вкус и ощущения, но этого не происходило и эксперт разочаровывался в батончике с высоким содержанием шоколада."
   ]
  },
  {
   "cell_type": "markdown",
   "id": "771ce22f",
   "metadata": {},
   "source": [
    "Теперь узнаем о корреляции между двумя этими признаками"
   ]
  },
  {
   "cell_type": "code",
   "execution_count": 44,
   "id": "d987e09a",
   "metadata": {},
   "outputs": [
    {
     "name": "stdout",
     "output_type": "stream",
     "text": [
      "-0.1648201776242442\n"
     ]
    }
   ],
   "source": [
    "correlation = cacao_df[['Cocoa_Percent', 'Rating']].corr().iloc[0, 1]\n",
    "print(correlation)"
   ]
  },
  {
   "cell_type": "markdown",
   "id": "c27cfa4c",
   "metadata": {},
   "source": [
    "Видно, что линейная зависимость очень слабая"
   ]
  },
  {
   "cell_type": "markdown",
   "id": "a3658fc1",
   "metadata": {},
   "source": [
    "Построим графики для оценки зависимости между остальными признаками"
   ]
  },
  {
   "cell_type": "code",
   "execution_count": 41,
   "id": "97328252",
   "metadata": {},
   "outputs": [
    {
     "data": {
      "image/png": "[encoded data removed]",
      "text/plain": [
       "<Figure size 720x432 with 2 Axes>"
      ]
     },
     "metadata": {},
     "output_type": "display_data"
    }
   ],
   "source": [
    "fig, ax = plt.subplots(figsize=(10, 6))\n",
    "sns.heatmap(cacao_df[['Cocoa_Percent', 'Rating', 'Review_Date', 'REF']].corr( ), square=True,\n",
    "              annot=True, fmt=\".1f\", linewidths=0.1, cmap=\"RdBu\");"
   ]
  },
  {
   "cell_type": "markdown",
   "id": "b26d7c4a",
   "metadata": {},
   "source": [
    "Заметим, что признаки REF и Review_Date зависимы и не оказывают значительного влияния на другие признаки. Перед постройкой модели нужно будет удалить один из признаков времени, чтобы не навредить модели."
   ]
  },
  {
   "cell_type": "markdown",
   "id": "34c3e7a1",
   "metadata": {},
   "source": [
    "# Анализ категориальных данных"
   ]
  },
  {
   "cell_type": "code",
   "execution_count": 45,
   "id": "87fc929b",
   "metadata": {},
   "outputs": [
    {
     "data": {
      "text/html": [
       "<div>\n",
       "<style scoped>\n",
       "    .dataframe tbody tr th:only-of-type {\n",
       "        vertical-align: middle;\n",
       "    }\n",
       "\n",
       "    .dataframe tbody tr th {\n",
       "        vertical-align: top;\n",
       "    }\n",
       "\n",
       "    .dataframe thead th {\n",
       "        text-align: right;\n",
       "    }\n",
       "</style>\n",
       "<table border=\"1\" class=\"dataframe\">\n",
       "  <thead>\n",
       "    <tr style=\"text-align: right;\">\n",
       "      <th></th>\n",
       "      <th>Company</th>\n",
       "      <th>Specific_Bean_Origin</th>\n",
       "      <th>Company_Location</th>\n",
       "      <th>Bean_Type</th>\n",
       "      <th>Bean_Origin</th>\n",
       "    </tr>\n",
       "  </thead>\n",
       "  <tbody>\n",
       "    <tr>\n",
       "      <th>count</th>\n",
       "      <td>1795</td>\n",
       "      <td>1795</td>\n",
       "      <td>1795</td>\n",
       "      <td>1795</td>\n",
       "      <td>1794</td>\n",
       "    </tr>\n",
       "    <tr>\n",
       "      <th>unique</th>\n",
       "      <td>416</td>\n",
       "      <td>1039</td>\n",
       "      <td>60</td>\n",
       "      <td>41</td>\n",
       "      <td>100</td>\n",
       "    </tr>\n",
       "    <tr>\n",
       "      <th>top</th>\n",
       "      <td>Soma</td>\n",
       "      <td>Madagascar</td>\n",
       "      <td>U.S.A.</td>\n",
       "      <td>Unknown</td>\n",
       "      <td>Venezuela</td>\n",
       "    </tr>\n",
       "    <tr>\n",
       "      <th>freq</th>\n",
       "      <td>47</td>\n",
       "      <td>57</td>\n",
       "      <td>764</td>\n",
       "      <td>888</td>\n",
       "      <td>214</td>\n",
       "    </tr>\n",
       "  </tbody>\n",
       "</table>\n",
       "</div>"
      ],
      "text/plain": [
       "       Company Specific_Bean_Origin Company_Location Bean_Type Bean_Origin\n",
       "count     1795                 1795             1795      1795        1794\n",
       "unique     416                 1039               60        41         100\n",
       "top       Soma           Madagascar           U.S.A.   Unknown   Venezuela\n",
       "freq        47                   57              764       888         214"
      ]
     },
     "execution_count": 45,
     "metadata": {},
     "output_type": "execute_result"
    }
   ],
   "source": [
    "cacao_df.describe(include=\"object\")"
   ]
  },
  {
   "cell_type": "markdown",
   "id": "35709b80",
   "metadata": {},
   "source": [
    "## Company"
   ]
  },
  {
   "cell_type": "markdown",
   "id": "07ad9bcf",
   "metadata": {},
   "source": [
    "Посмотрим на 10 компаний с наибольшим количеством оценок"
   ]
  },
  {
   "cell_type": "code",
   "execution_count": 107,
   "id": "cce92ea0",
   "metadata": {},
   "outputs": [
    {
     "data": {
      "text/plain": [
       "Soma                          47\n",
       "Bonnat                        27\n",
       "Fresco                        26\n",
       "Pralus                        25\n",
       "A. Morin                      23\n",
       "Arete                         22\n",
       "Domori                        22\n",
       "Guittard                      22\n",
       "Valrhona                      21\n",
       "Hotel Chocolat (Coppeneur)    19\n",
       "Coppeneur                     18\n",
       "Mast Brothers                 18\n",
       "Zotter                        17\n",
       "Scharffen Berger              17\n",
       "Rogue                         16\n",
       "Artisan du Chocolat           16\n",
       "Dandelion                     16\n",
       "Smooth Chocolator, The        16\n",
       "Szanto Tibor                  15\n",
       "Pierre Marcolini              14\n",
       "Name: Company, dtype: int64"
      ]
     },
     "execution_count": 107,
     "metadata": {},
     "output_type": "execute_result"
    }
   ],
   "source": [
    "company_series = cacao_df.Company.value_counts().sort_values(ascending=False)[:20]\n",
    "company_series"
   ]
  },
  {
   "cell_type": "markdown",
   "id": "6d467bbd",
   "metadata": {},
   "source": [
    "Если интерпретировать оценки как оценки на разные шоколадные батончики, то лидером по количеству батончиков выступает компания Soma"
   ]
  },
  {
   "cell_type": "markdown",
   "id": "4be0abf3",
   "metadata": {},
   "source": [
    "## Specific_Bean_Origin"
   ]
  },
  {
   "cell_type": "code",
   "execution_count": 52,
   "id": "85a1adf8",
   "metadata": {},
   "outputs": [
    {
     "data": {
      "text/plain": [
       "Madagascar            57\n",
       "Peru                  45\n",
       "Ecuador               42\n",
       "Dominican Republic    37\n",
       "Venezuela             21\n",
       "Sambirano             19\n",
       "Chuao                 19\n",
       "Ocumare               17\n",
       "Papua New Guinea      15\n",
       "Ghana                 15\n",
       "Name: Specific_Bean_Origin, dtype: int64"
      ]
     },
     "execution_count": 52,
     "metadata": {},
     "output_type": "execute_result"
    }
   ],
   "source": [
    "cacao_df.Specific_Bean_Origin.value_counts().sort_values(ascending=False)[:10]"
   ]
  },
  {
   "cell_type": "markdown",
   "id": "097d404e",
   "metadata": {},
   "source": [
    "## Bean_Origin"
   ]
  },
  {
   "cell_type": "code",
   "execution_count": 79,
   "id": "11add9c4",
   "metadata": {},
   "outputs": [
    {
     "data": {
      "text/plain": [
       "Venezuela             214\n",
       "Ecuador               193\n",
       "Peru                  165\n",
       "Madagascar            145\n",
       "Dominican Republic    141\n",
       "Unknown                74\n",
       "Nicaragua              60\n",
       "Brazil                 58\n",
       "Bolivia                57\n",
       "Belize                 49\n",
       "Name: Bean_Origin, dtype: int64"
      ]
     },
     "execution_count": 79,
     "metadata": {},
     "output_type": "execute_result"
    }
   ],
   "source": [
    "cacao_df.Bean_Origin.value_counts().sort_values(ascending=False)[:10]"
   ]
  },
  {
   "cell_type": "markdown",
   "id": "7b3d19f2",
   "metadata": {},
   "source": [
    "## Bean_Type"
   ]
  },
  {
   "cell_type": "code",
   "execution_count": 104,
   "id": "1dc90af5",
   "metadata": {},
   "outputs": [
    {
     "data": {
      "text/plain": [
       "Unknown                 888\n",
       "Trinitario              419\n",
       "Criollo                 153\n",
       "Forastero                87\n",
       "Forastero (Nacional)     52\n",
       "Blend                    41\n",
       "Criollo, Trinitario      39\n",
       "Forastero (Arriba)       37\n",
       "Criollo (Porcelana)      10\n",
       "Trinitario, Criollo       9\n",
       "Name: Bean_Type, dtype: int64"
      ]
     },
     "execution_count": 104,
     "metadata": {},
     "output_type": "execute_result"
    }
   ],
   "source": [
    "bean_type_series = cacao_df.Bean_Type.value_counts().sort_values(ascending=False)[:10]\n",
    "bean_type_series"
   ]
  },
  {
   "cell_type": "markdown",
   "id": "8c0ed13f",
   "metadata": {},
   "source": [
    "## Company_Location"
   ]
  },
  {
   "cell_type": "code",
   "execution_count": 90,
   "id": "92d2be9b",
   "metadata": {},
   "outputs": [
    {
     "data": {
      "text/plain": [
       "U.S.A.         764\n",
       "France         156\n",
       "Canada         125\n",
       "U.K.            96\n",
       "Italy           63\n",
       "Ecuador         54\n",
       "Australia       49\n",
       "Belgium         40\n",
       "Switzerland     38\n",
       "Germany         35\n",
       "Austria         26\n",
       "Spain           25\n",
       "Colombia        23\n",
       "Hungary         22\n",
       "Venezuela       20\n",
       "Brazil          17\n",
       "New Zealand     17\n",
       "Japan           17\n",
       "Madagascar      17\n",
       "Peru            17\n",
       "Name: Company_Location, dtype: int64"
      ]
     },
     "execution_count": 90,
     "metadata": {},
     "output_type": "execute_result"
    }
   ],
   "source": [
    "company_location_series = cacao_df.Company_Location.value_counts().sort_values(ascending=False)[:20]\n",
    "company_location_series"
   ]
  },
  {
   "cell_type": "markdown",
   "id": "9a39b6d2",
   "metadata": {},
   "source": [
    "Можно сказать, что США является лидером среди стран по производству шоколадных батончиков, но какие это батончики?"
   ]
  },
  {
   "cell_type": "markdown",
   "id": "92b9d5bd",
   "metadata": {},
   "source": [
    "# Анализ совокупности количественных и категориальных признаков"
   ]
  },
  {
   "cell_type": "markdown",
   "id": "954b73b3",
   "metadata": {},
   "source": [
    "### Зависимость оценки от страны"
   ]
  },
  {
   "cell_type": "code",
   "execution_count": 94,
   "id": "52701f0d",
   "metadata": {},
   "outputs": [],
   "source": [
    "cacao_df.Company_Location = cacao_df.Company_Location.apply(lambda cl: cl if cl in company_location_series.index else 'other')"
   ]
  },
  {
   "cell_type": "code",
   "execution_count": 103,
   "id": "17678537",
   "metadata": {},
   "outputs": [
    {
     "data": {
      "text/plain": [
       "<AxesSubplot:title={'center':'Rating'}, xlabel='Company_Location'>"
      ]
     },
     "execution_count": 103,
     "metadata": {},
     "output_type": "execute_result"
    },
    {
     "data": {
      "image/png": "[encoded data removed]",
      "text/plain": [
       "<Figure size 1728x720 with 1 Axes>"
      ]
     },
     "metadata": {},
     "output_type": "display_data"
    }
   ],
   "source": [
    "cacao_df.boxplot('Rating', by='Company_Location', figsize=(24, 10))"
   ]
  },
  {
   "cell_type": "markdown",
   "id": "b6ffd08d",
   "metadata": {},
   "source": [
    "Глядя на медианно значение оценки представленных ящиков с усами, можно выделить страны, шоколад которых эксперты оценивают достаточно высоко. Это Австралия и Бразилия. Остальные страны имеют схожие медианные значения оценок.\n",
    "\n",
    "По графику также видно, что самая низкая оценка принадлежит шоколаду из Бельгии, а самая высокая оценка приналежит шоколаду из Италии."
   ]
  },
  {
   "cell_type": "markdown",
   "id": "6ecaf037",
   "metadata": {},
   "source": [
    "### Зависимость оценки от типа какао-боба"
   ]
  },
  {
   "cell_type": "code",
   "execution_count": 105,
   "id": "ff66fcee",
   "metadata": {},
   "outputs": [],
   "source": [
    "cacao_df.Bean_Type = cacao_df.Bean_Type.apply(lambda bt: bt if bt in bean_type_series.index else 'other')"
   ]
  },
  {
   "cell_type": "code",
   "execution_count": 106,
   "id": "7a7e025e",
   "metadata": {},
   "outputs": [
    {
     "data": {
      "text/plain": [
       "<AxesSubplot:title={'center':'Rating'}, xlabel='Bean_Type'>"
      ]
     },
     "execution_count": 106,
     "metadata": {},
     "output_type": "execute_result"
    },
    {
     "data": {
      "image/png": "[encoded data removed]",
      "text/plain": [
       "<Figure size 1728x720 with 1 Axes>"
      ]
     },
     "metadata": {},
     "output_type": "display_data"
    }
   ],
   "source": [
    "cacao_df.boxplot('Rating', by='Bean_Type', figsize=(24, 10))"
   ]
  },
  {
   "cell_type": "markdown",
   "id": "84932cc7",
   "metadata": {},
   "source": [
    "Бобы типа Blend и Trinitario завоевали самые высокие оценки засчет шоколадов, которые были произведенены из этих бобов."
   ]
  },
  {
   "cell_type": "markdown",
   "id": "302320fb",
   "metadata": {},
   "source": [
    "### Зависимость оценки от компании"
   ]
  },
  {
   "cell_type": "code",
   "execution_count": 109,
   "id": "147cb545",
   "metadata": {},
   "outputs": [],
   "source": [
    "cacao_df.Company = cacao_df.Company.apply(lambda c: c if c in company_series.index else 'other')"
   ]
  },
  {
   "cell_type": "code",
   "execution_count": 112,
   "id": "56753ba1",
   "metadata": {},
   "outputs": [
    {
     "data": {
      "text/plain": [
       "<AxesSubplot:title={'center':'Rating'}, xlabel='Company'>"
      ]
     },
     "execution_count": 112,
     "metadata": {},
     "output_type": "execute_result"
    },
    {
     "data": {
      "image/png": "[encoded data removed]",
      "text/plain": [
       "<Figure size 1440x720 with 1 Axes>"
      ]
     },
     "metadata": {},
     "output_type": "display_data"
    }
   ],
   "source": [
    "cacao_df.boxplot('Rating', by='Company', figsize=(20, 10))"
   ]
  },
  {
   "cell_type": "markdown",
   "id": "f95c0ff7",
   "metadata": {},
   "source": [
    "По графику видно, что лучшая медианная оценка достигается у компани __The Smooth Chocolator__\n",
    "\n",
    "А лучшие шоколадные батончики оказались в группу other, что наталкивает на мысль о том, что лучшие шоколады производятся компаниями, у которых небольшой ассортимент шоколада (поэтому и оценок меньше)."
   ]
  }
 ],
 "metadata": {
  "kernelspec": {
   "display_name": "Python 3",
   "language": "python",
   "name": "python3"
  },
  "language_info": {
   "codemirror_mode": {
    "name": "ipython",
    "version": 3
   },
   "file_extension": ".py",
   "mimetype": "text/x-python",
   "name": "python",
   "nbconvert_exporter": "python",
   "pygments_lexer": "ipython3",
   "version": "3.9.5"
  }
 },
 "nbformat": 4,
 "nbformat_minor": 5
}
